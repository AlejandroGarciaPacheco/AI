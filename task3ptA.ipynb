{
 "cells": [
  {
   "cell_type": "code",
   "execution_count": 64,
   "id": "79e4b0ac",
   "metadata": {},
   "outputs": [],
   "source": [
    "import torch\n",
    "import torchvision\n",
    "import matplotlib.pyplot as plt\n",
    "import numpy as np"
   ]
  },
  {
   "cell_type": "code",
   "execution_count": 65,
   "id": "98926255",
   "metadata": {},
   "outputs": [],
   "source": [
    "#plot settings\n",
    "plt.rcParams['figure.figsize'] = 14, 6"
   ]
  },
  {
   "cell_type": "code",
   "execution_count": 66,
   "id": "3e87cb67",
   "metadata": {},
   "outputs": [],
   "source": [
    "normalize_transform = torchvision.transforms.Compose([\n",
    "    torchvision.transforms.ToTensor(),\n",
    "    torchvision.transforms.Normalize(mean = (0.5, 0.5, 0.5), \n",
    "                                     std = (0.5, 0.5, 0.5))])"
   ]
  },
  {
   "cell_type": "code",
   "execution_count": 67,
   "id": "1c8bb208",
   "metadata": {},
   "outputs": [
    {
     "name": "stdout",
     "output_type": "stream",
     "text": [
      "Downloading https://www.cs.toronto.edu/~kriz/cifar-10-python.tar.gz to ./CIFAR10/train\\cifar-10-python.tar.gz\n"
     ]
    },
    {
     "data": {
      "application/vnd.jupyter.widget-view+json": {
       "model_id": "dab9b8a970ad4e5ea5e88d8f80af9c16",
       "version_major": 2,
       "version_minor": 0
      },
      "text/plain": [
       "  0%|          | 0/170498071 [00:00<?, ?it/s]"
      ]
     },
     "metadata": {},
     "output_type": "display_data"
    },
    {
     "name": "stdout",
     "output_type": "stream",
     "text": [
      "Extracting ./CIFAR10/train\\cifar-10-python.tar.gz to ./CIFAR10/train\n",
      "Downloading https://www.cs.toronto.edu/~kriz/cifar-10-python.tar.gz to ./CIFAR10/test\\cifar-10-python.tar.gz\n"
     ]
    },
    {
     "data": {
      "application/vnd.jupyter.widget-view+json": {
       "model_id": "3c8d76a9de4849e7a62e289aa03e3d0d",
       "version_major": 2,
       "version_minor": 0
      },
      "text/plain": [
       "  0%|          | 0/170498071 [00:00<?, ?it/s]"
      ]
     },
     "metadata": {},
     "output_type": "display_data"
    },
    {
     "name": "stdout",
     "output_type": "stream",
     "text": [
      "Extracting ./CIFAR10/test\\cifar-10-python.tar.gz to ./CIFAR10/test\n"
     ]
    }
   ],
   "source": [
    "train_dataset = torchvision.datasets.CIFAR10(\n",
    "    root=\"./CIFAR10/train\", train=True,\n",
    "    transform=normalize_transform,\n",
    "    download=True)\n",
    "    \n",
    "test_dataset = torchvision.datasets.CIFAR10(\n",
    "    root=\"./CIFAR10/test\", train=False,\n",
    "    transform=normalize_transform,\n",
    "    download=True)"
   ]
  },
  {
   "cell_type": "code",
   "execution_count": 129,
   "id": "76e4b2d0",
   "metadata": {},
   "outputs": [],
   "source": [
    "batch_size=4\n",
    "#change num workers, and batch size\n",
    "train_loader = torch.utils.data.DataLoader(train_dataset, batch_size, shuffle=True, num_workers=4)\n",
    "test_loader = torch.utils.data.DataLoader(test_dataset, batch_size*2,shuffle=True, num_workers=4)"
   ]
  },
  {
   "cell_type": "code",
   "execution_count": 130,
   "id": "521fa3d4",
   "metadata": {},
   "outputs": [
    {
     "data": {
      "text/plain": [
       "(-0.5, 132.5, 33.5, -0.5)"
      ]
     },
     "execution_count": 130,
     "metadata": {},
     "output_type": "execute_result"
    },
    {
     "data": {
      "image/png": "[encoded data removed]",
      "text/plain": [
       "<Figure size 1400x600 with 1 Axes>"
      ]
     },
     "metadata": {},
     "output_type": "display_data"
    }
   ],
   "source": [
    "dataiter = iter(train_loader)\n",
    "images, labels = next(dataiter)\n",
    "plt.imshow(np.transpose(torchvision.utils.make_grid(\n",
    "  images[:25], normalize=True, padding=1, nrow=5).numpy(), (1, 2, 0)))\n",
    "plt.axis('off')"
   ]
  },
  {
   "cell_type": "code",
   "execution_count": 131,
   "id": "ea2bc8aa",
   "metadata": {},
   "outputs": [],
   "source": [
    "classList = []\n",
    "for batch_idx, data in enumerate(train_loader, 0):\n",
    "    x, y = data \n",
    "    #print (x,y)\n",
    "    classList.extend(y.tolist())\n",
    "  \n",
    "unique, counts = np.unique(classList, return_counts=True)\n",
    "names = list(test_dataset.class_to_idx.keys())"
   ]
  },
  {
   "cell_type": "code",
   "execution_count": 132,
   "id": "c20cee77",
   "metadata": {},
   "outputs": [],
   "source": [
    "class convNet(torch.nn.Module):\n",
    "    def __init__(self):\n",
    "        super().__init__()\n",
    "        \n",
    "        self.model=torch.nn.Sequential(\n",
    "        torch.nn.Conv2d(in_channels = 3, out_channels = 32, kernel_size = 3, padding = 1), \n",
    "            torch.nn.ReLU(),\n",
    "            torch.nn.MaxPool2d(kernel_size=2),\n",
    "            torch.nn.Conv2d(in_channels = 32, out_channels = 64, kernel_size = 3, padding = 1),\n",
    "            torch.nn.ReLU(),\n",
    "            torch.nn.MaxPool2d(kernel_size=2),\n",
    "            torch.nn.Conv2d(in_channels = 64, out_channels = 64, kernel_size = 3, padding = 1),\n",
    "            torch.nn.ReLU(),\n",
    "            torch.nn.MaxPool2d(kernel_size=2),\n",
    "  \n",
    "            torch.nn.Flatten(),\n",
    "            torch.nn.Linear(64*4*4, 512),\n",
    "            torch.nn.ReLU(),\n",
    "            torch.nn.Linear(512, 10)\n",
    "            \n",
    "        )\n",
    "        \n",
    "    def forward(self, x):\n",
    "        return self.model(x)"
   ]
  },
  {
   "cell_type": "code",
   "execution_count": 133,
   "id": "2e209dff",
   "metadata": {},
   "outputs": [],
   "source": [
    "device = 'cuda' if torch.cuda.is_available() else 'cpu'\n",
    "model = convNet().to(device)\n",
    "\n",
    "#hyper parameters\n",
    "num_epochs = 20\n",
    "learning_rate = 0.001\n",
    "criterion = torch.nn.CrossEntropyLoss()\n",
    "optimizer = torch.optim.SGD(model.parameters(), lr=learning_rate)"
   ]
  },
  {
   "cell_type": "code",
   "execution_count": null,
   "id": "947c0e68",
   "metadata": {
    "scrolled": false
   },
   "outputs": [
    {
     "name": "stdout",
     "output_type": "stream",
     "text": [
      "Epoch 1/20: Epoch [1/20], Step [2000/12500], Loss: 2.2989\n",
      "Epoch [1/20], Step [4000/12500], Loss: 2.2891\n",
      "Epoch [1/20], Step [6000/12500], Loss: 2.2741\n",
      "Epoch [1/20], Step [8000/12500], Loss: 2.3050\n",
      "Epoch [1/20], Step [10000/12500], Loss: 3.0324\n",
      "Epoch [1/20], Step [12000/12500], Loss: 1.6225\n",
      "Training loss = 2.2087420839595793\n",
      "Epoch 2/20: Epoch [2/20], Step [2000/12500], Loss: 2.6486\n",
      "Epoch [2/20], Step [4000/12500], Loss: 2.7700\n",
      "Epoch [2/20], Step [6000/12500], Loss: 2.0865\n",
      "Epoch [2/20], Step [8000/12500], Loss: 1.1797\n",
      "Epoch [2/20], Step [10000/12500], Loss: 1.3756\n",
      "Epoch [2/20], Step [12000/12500], Loss: 1.4900\n",
      "Training loss = 1.7390602293157578\n",
      "Epoch 3/20: Epoch [3/20], Step [2000/12500], Loss: 1.3622\n",
      "Epoch [3/20], Step [4000/12500], Loss: 1.8413\n",
      "Epoch [3/20], Step [6000/12500], Loss: 1.2027\n",
      "Epoch [3/20], Step [8000/12500], Loss: 1.0796\n",
      "Epoch [3/20], Step [10000/12500], Loss: 0.9963\n",
      "Epoch [3/20], Step [12000/12500], Loss: 1.5135\n",
      "Training loss = 1.481356571509838\n",
      "Epoch 4/20: Epoch [4/20], Step [2000/12500], Loss: 1.5399\n",
      "Epoch [4/20], Step [4000/12500], Loss: 0.6183\n",
      "Epoch [4/20], Step [6000/12500], Loss: 0.6819\n",
      "Epoch [4/20], Step [8000/12500], Loss: 1.0122\n",
      "Epoch [4/20], Step [10000/12500], Loss: 0.8993\n",
      "Epoch [4/20], Step [12000/12500], Loss: 1.0518\n",
      "Training loss = 1.3571998352444172\n",
      "Epoch 5/20: Epoch [5/20], Step [2000/12500], Loss: 1.5139\n",
      "Epoch [5/20], Step [4000/12500], Loss: 1.4666\n",
      "Epoch [5/20], Step [6000/12500], Loss: 1.2846\n",
      "Epoch [5/20], Step [8000/12500], Loss: 1.1405\n",
      "Epoch [5/20], Step [10000/12500], Loss: 1.1897\n",
      "Epoch [5/20], Step [12000/12500], Loss: 1.4603\n",
      "Training loss = 1.257555336984396\n",
      "Epoch 6/20: Epoch [6/20], Step [2000/12500], Loss: 0.6479\n",
      "Epoch [6/20], Step [4000/12500], Loss: 2.0789\n",
      "Epoch [6/20], Step [6000/12500], Loss: 1.3164\n",
      "Epoch [6/20], Step [8000/12500], Loss: 1.2778\n",
      "Epoch [6/20], Step [10000/12500], Loss: 0.3840\n",
      "Epoch [6/20], Step [12000/12500], Loss: 0.5826\n",
      "Training loss = 1.1670144875264168\n",
      "Epoch 7/20: Epoch [7/20], Step [2000/12500], Loss: 1.0926\n",
      "Epoch [7/20], Step [4000/12500], Loss: 1.6642\n",
      "Epoch [7/20], Step [6000/12500], Loss: 1.6464\n",
      "Epoch [7/20], Step [8000/12500], Loss: 0.5774\n",
      "Epoch [7/20], Step [10000/12500], Loss: 0.9733\n",
      "Epoch [7/20], Step [12000/12500], Loss: 0.7638\n",
      "Training loss = 1.0897392437759041\n",
      "Epoch 8/20: Epoch [8/20], Step [2000/12500], Loss: 2.4109\n",
      "Epoch [8/20], Step [4000/12500], Loss: 0.4742\n",
      "Epoch [8/20], Step [6000/12500], Loss: 1.7387\n",
      "Epoch [8/20], Step [8000/12500], Loss: 0.1028\n",
      "Epoch [8/20], Step [10000/12500], Loss: 0.5423\n",
      "Epoch [8/20], Step [12000/12500], Loss: 0.4221\n",
      "Training loss = 1.017939051645696\n",
      "Epoch 9/20: Epoch [9/20], Step [2000/12500], Loss: 0.5861\n",
      "Epoch [9/20], Step [4000/12500], Loss: 1.4850\n",
      "Epoch [9/20], Step [6000/12500], Loss: 0.9556\n",
      "Epoch [9/20], Step [8000/12500], Loss: 1.1520\n",
      "Epoch [9/20], Step [10000/12500], Loss: 0.9530\n",
      "Epoch [9/20], Step [12000/12500], Loss: 0.6524\n",
      "Training loss = 0.9523522816953063\n",
      "Epoch 10/20: Epoch [10/20], Step [2000/12500], Loss: 2.1346\n",
      "Epoch [10/20], Step [4000/12500], Loss: 0.6577\n",
      "Epoch [10/20], Step [6000/12500], Loss: 2.0647\n",
      "Epoch [10/20], Step [8000/12500], Loss: 0.5727\n",
      "Epoch [10/20], Step [10000/12500], Loss: 1.5032\n",
      "Epoch [10/20], Step [12000/12500], Loss: 0.3416\n",
      "Training loss = 0.8937102136985212\n",
      "Epoch 11/20: Epoch [11/20], Step [2000/12500], Loss: 0.1615\n",
      "Epoch [11/20], Step [4000/12500], Loss: 0.7463\n",
      "Epoch [11/20], Step [6000/12500], Loss: 0.3571\n",
      "Epoch [11/20], Step [8000/12500], Loss: 0.1717\n",
      "Epoch [11/20], Step [10000/12500], Loss: 0.2144\n",
      "Epoch [11/20], Step [12000/12500], Loss: 1.4072\n",
      "Training loss = 0.839014760267362\n",
      "Epoch 12/20: Epoch [12/20], Step [2000/12500], Loss: 0.9628\n",
      "Epoch [12/20], Step [4000/12500], Loss: 1.0282\n",
      "Epoch [12/20], Step [6000/12500], Loss: 0.2389\n",
      "Epoch [12/20], Step [8000/12500], Loss: 0.2127\n",
      "Epoch [12/20], Step [10000/12500], Loss: 0.8549\n",
      "Epoch [12/20], Step [12000/12500], Loss: 1.0363\n",
      "Training loss = 0.7924285447635502\n",
      "Epoch 13/20: Epoch [13/20], Step [2000/12500], Loss: 0.8264\n",
      "Epoch [13/20], Step [4000/12500], Loss: 1.2544\n",
      "Epoch [13/20], Step [6000/12500], Loss: 0.2475\n",
      "Epoch [13/20], Step [8000/12500], Loss: 1.1353\n",
      "Epoch [13/20], Step [10000/12500], Loss: 0.6770\n",
      "Epoch [13/20], Step [12000/12500], Loss: 2.7345\n",
      "Training loss = 0.7451468431273476\n",
      "Epoch 14/20: Epoch [14/20], Step [2000/12500], Loss: 0.7414\n",
      "Epoch [14/20], Step [4000/12500], Loss: 1.0405\n",
      "Epoch [14/20], Step [6000/12500], Loss: 1.3185\n",
      "Epoch [14/20], Step [8000/12500], Loss: 0.6432\n",
      "Epoch [14/20], Step [10000/12500], Loss: 0.3877\n",
      "Epoch [14/20], Step [12000/12500], Loss: 1.7538\n",
      "Training loss = 0.7006379385355488\n",
      "Epoch 15/20: Epoch [15/20], Step [2000/12500], Loss: 0.5342\n",
      "Epoch [15/20], Step [4000/12500], Loss: 0.6074\n",
      "Epoch [15/20], Step [6000/12500], Loss: 1.4495\n",
      "Epoch [15/20], Step [8000/12500], Loss: 1.7681\n",
      "Epoch [15/20], Step [10000/12500], Loss: 0.0716\n",
      "Epoch [15/20], Step [12000/12500], Loss: 1.0423\n",
      "Training loss = 0.66129960727565\n",
      "Epoch 16/20: Epoch [16/20], Step [2000/12500], Loss: 0.5048\n",
      "Epoch [16/20], Step [4000/12500], Loss: 0.0790\n",
      "Epoch [16/20], Step [6000/12500], Loss: 0.9761\n",
      "Epoch [16/20], Step [8000/12500], Loss: 0.9459\n",
      "Epoch [16/20], Step [10000/12500], Loss: 0.9247\n",
      "Epoch [16/20], Step [12000/12500], Loss: 1.0282\n",
      "Training loss = 0.622048460658323\n",
      "Epoch 17/20: Epoch [17/20], Step [2000/12500], Loss: 0.0604\n",
      "Epoch [17/20], Step [4000/12500], Loss: 0.3798\n",
      "Epoch [17/20], Step [6000/12500], Loss: 0.8174\n",
      "Epoch [17/20], Step [8000/12500], Loss: 0.1734\n",
      "Epoch [17/20], Step [10000/12500], Loss: 0.3258\n",
      "Epoch [17/20], Step [12000/12500], Loss: 1.5409\n",
      "Training loss = 0.5823350344286021\n",
      "Epoch 18/20: Epoch [18/20], Step [2000/12500], Loss: 0.8528\n",
      "Epoch [18/20], Step [4000/12500], Loss: 0.3350\n",
      "Epoch [18/20], Step [6000/12500], Loss: 1.2232\n",
      "Epoch [18/20], Step [8000/12500], Loss: 0.0714\n",
      "Epoch [18/20], Step [10000/12500], Loss: 0.6384\n"
     ]
    }
   ],
   "source": [
    "#Training\n",
    "trainListL = []\n",
    "n_total_steps = len(train_loader)\n",
    "for epoch in range(num_epochs):\n",
    "    print(f'Epoch {epoch+1}/{num_epochs}:', end = ' ')\n",
    "    train_loss = 0\n",
    "    \n",
    "    model.train()\n",
    "    for i, (images, labels) in enumerate(train_loader):\n",
    "          \n",
    "        #Extracting images and target labels and sending it to device\n",
    "        images = images.to(device)\n",
    "        labels = labels.to(device)\n",
    "        #Calculating the model output and the cross entropy loss\n",
    "        outputs = model(images)\n",
    "        loss = criterion(outputs, labels)\n",
    "        \n",
    "        #Updating weights according to calculated loss\n",
    "        optimizer.zero_grad()\n",
    "        loss.backward()\n",
    "        optimizer.step()\n",
    "        train_loss = train_loss + loss.item()\n",
    "        \n",
    "        if (i+1) % 2000 == 0:\n",
    "            print (f'Epoch [{epoch+1}/{num_epochs}], Step [{i+1}/{n_total_steps}], Loss: {loss.item():.4f}')\n",
    "        \n",
    "    trainListL.append(train_loss/len(train_loader))\n",
    "    print(f\"Training loss = {trainListL[-1]}\")   \n",
    "      \n",
    "#Plotting loss for all epochs\n",
    "plt.plot(range(1,num_epochs+1), trainListL)\n",
    "plt.xlabel(\"Number of epochs\")\n",
    "plt.ylabel(\"Training loss\")"
   ]
  },
  {
   "cell_type": "code",
   "execution_count": null,
   "id": "777ed565",
   "metadata": {},
   "outputs": [],
   "source": [
    "with torch.no_grad():\n",
    "    n_correct = 0\n",
    "    n_samples = 0\n",
    "    n_class_correct = [0 for i in range(10)]\n",
    "    n_class_samples = [0 for i in range(10)]\n",
    "    for images, labels in test_loader:\n",
    "        images = images.to(device)\n",
    "        labels = labels.to(device)\n",
    "        outputs = model(images)\n",
    "        # max returns (value ,index)\n",
    "        _, predicted = torch.max(outputs, 1)\n",
    "        n_samples += labels.size(0)\n",
    "        n_correct += (predicted == labels).sum().item()\n",
    "\n",
    "        for i in range(batch_size):\n",
    "            label = labels[i]\n",
    "            pred = predicted[i]\n",
    "            if (label == pred):\n",
    "                n_class_correct[label] += 1\n",
    "            n_class_samples[label] += 1\n",
    "\n",
    "    acc = 100.0 * n_correct / n_samples\n",
    "    print(f'Accuracy of the network: {acc} %')\n",
    "\n",
    "    for i in range(10):\n",
    "        acc = 100.0 * n_class_correct[i] / n_class_samples[i]\n",
    "        print(f'Accuracy of {names[i]}: {acc} %')"
   ]
  },
  {
   "cell_type": "code",
   "execution_count": 2,
   "id": "df2d5588",
   "metadata": {},
   "outputs": [
    {
     "ename": "NameError",
     "evalue": "name 'names' is not defined",
     "output_type": "error",
     "traceback": [
      "\u001b[1;31m---------------------------------------------------------------------------\u001b[0m",
      "\u001b[1;31mNameError\u001b[0m                                 Traceback (most recent call last)",
      "Cell \u001b[1;32mIn[2], line 2\u001b[0m\n\u001b[0;32m      1\u001b[0m image_number \u001b[38;5;241m=\u001b[39m \u001b[38;5;241m6\u001b[39m\n\u001b[1;32m----> 2\u001b[0m true_name \u001b[38;5;241m=\u001b[39m [names[labels[idx]] \u001b[38;5;28;01mfor\u001b[39;00m idx \u001b[38;5;129;01min\u001b[39;00m \u001b[38;5;28mrange\u001b[39m(image_number)] \n\u001b[0;32m      3\u001b[0m pred_name \u001b[38;5;241m=\u001b[39m [names[predicted[idx]] \u001b[38;5;28;01mfor\u001b[39;00m idx \u001b[38;5;129;01min\u001b[39;00m \u001b[38;5;28mrange\u001b[39m(image_number)]\n\u001b[0;32m      5\u001b[0m \u001b[38;5;66;03m#Plots and labels the classes with predicted from training to their respective photo\u001b[39;00m\n",
      "Cell \u001b[1;32mIn[2], line 2\u001b[0m, in \u001b[0;36m<listcomp>\u001b[1;34m(.0)\u001b[0m\n\u001b[0;32m      1\u001b[0m image_number \u001b[38;5;241m=\u001b[39m \u001b[38;5;241m6\u001b[39m\n\u001b[1;32m----> 2\u001b[0m true_name \u001b[38;5;241m=\u001b[39m [\u001b[43mnames\u001b[49m[labels[idx]] \u001b[38;5;28;01mfor\u001b[39;00m idx \u001b[38;5;129;01min\u001b[39;00m \u001b[38;5;28mrange\u001b[39m(image_number)] \n\u001b[0;32m      3\u001b[0m pred_name \u001b[38;5;241m=\u001b[39m [names[predicted[idx]] \u001b[38;5;28;01mfor\u001b[39;00m idx \u001b[38;5;129;01min\u001b[39;00m \u001b[38;5;28mrange\u001b[39m(image_number)]\n\u001b[0;32m      5\u001b[0m \u001b[38;5;66;03m#Plots and labels the classes with predicted from training to their respective photo\u001b[39;00m\n",
      "\u001b[1;31mNameError\u001b[0m: name 'names' is not defined"
     ]
    }
   ],
   "source": [
    "image_number = 6\n",
    "true_name = [names[labels[idx]] for idx in range(image_number)] \n",
    "pred_name = [names[predicted[idx]] for idx in range(image_number)]\n",
    "\n",
    "#Plots and labels the classes with predicted from training to their respective photo\n",
    "title = f\"Actual labels: {true_name}, Predicted labels: {pred_name}\"\n",
    "plt.imshow(np.transpose(torchvision.utils.make_grid(images[:image_number].cpu(), normalize=True, padding=1).numpy(), (1, 2, 0)))\n",
    "plt.title(title)\n",
    "plt.axis(\"off\")"
   ]
  },
  {
   "cell_type": "code",
   "execution_count": null,
   "id": "cd166180",
   "metadata": {},
   "outputs": [],
   "source": []
  }
 ],
 "metadata": {
  "kernelspec": {
   "display_name": "Python 3 (ipykernel)",
   "language": "python",
   "name": "python3"
  },
  "language_info": {
   "codemirror_mode": {
    "name": "ipython",
    "version": 3
   },
   "file_extension": ".py",
   "mimetype": "text/x-python",
   "name": "python",
   "nbconvert_exporter": "python",
   "pygments_lexer": "ipython3",
   "version": "3.10.8"
  }
 },
 "nbformat": 4,
 "nbformat_minor": 5
}
