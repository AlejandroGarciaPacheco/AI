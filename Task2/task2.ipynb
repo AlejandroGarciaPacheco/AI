{
 "cells": [
  {
   "cell_type": "code",
   "execution_count": 2,
   "id": "023687f6",
   "metadata": {},
   "outputs": [],
   "source": [
    "#Importing the libararies \n",
    "import pandas as pd\n",
    "import numpy as np \n",
    "\n",
    "\n",
    "#loading the dataset\n",
    "df_train = pd.read_csv(r'mnist_train.csv', encoding = 'UTF=8')\n",
    "df_test = pd.read_csv(r'mnist_test.csv', encoding = 'UTF-8')"
   ]
  },
  {
   "cell_type": "code",
   "execution_count": 134,
   "id": "a1a19cc7",
   "metadata": {},
   "outputs": [],
   "source": [
    "#data wrangling for the model \n",
    "\n",
    "np_data = np.array(df_train)\n",
    "X_train = np_data[:,1:] # All except label col [0]\n",
    "X_train = X_train/255 # Image normalize\n",
    "y_train = np.reshape(np_data[:,0],(1,-1))\n",
    "\n",
    "np_data = np.array(df_test)\n",
    "X_test = np_data[:,1:] # All except label col [0]\n",
    "X_test = X_test/255 #Image normalize\n",
    "y_test = np.reshape(np_data[:,0],(1,-1))"
   ]
  },
  {
   "cell_type": "code",
   "execution_count": 135,
   "id": "8531529f",
   "metadata": {},
   "outputs": [
    {
     "name": "stdout",
     "output_type": "stream",
     "text": [
      "X_train: (60000, 784) and y_train: (1, 60000)\n",
      "X_test: (10000, 784) and y_test: (1, 10000)\n"
     ]
    }
   ],
   "source": [
    "print ('X_train: '+ str(X_train.shape) + ' and y_train: ' + str(y_train.shape) )\n",
    "print ('X_test: '+ str(X_test.shape) + ' and y_test: ' + str(y_test.shape) )"
   ]
  },
  {
   "cell_type": "code",
   "execution_count": 136,
   "id": "3fb6ed96",
   "metadata": {},
   "outputs": [],
   "source": [
    "#utility function that will need later\n",
    "def one_hot_encoding(y):\n",
    "  classes = np.reshape(np.unique(y),(-1,1))\n",
    "  return np.equal(classes,y)*1\n",
    "def one_hot_decoding(y):\n",
    "    return np.argmax(y,axis=0).reshape((1,-1))\n",
    "\n",
    "def accuracy(y_true, y_pred):\n",
    "  return np.sum(y_true == y_pred, axis = 0) / len(y_true)"
   ]
  },
  {
   "cell_type": "code",
   "execution_count": 137,
   "id": "59b7e360",
   "metadata": {},
   "outputs": [],
   "source": [
    "def confusion__matrix(y_true, y_pred):\n",
    "  lbls = len(np.unique(y_true)) \n",
    "  cm = np.zeros((lbls, lbls))\n",
    "  for i in range(len(y_pred)):\n",
    "    cm[y_true[i]][y_pred[i]] += 1\n",
    "  return cm"
   ]
  },
  {
   "cell_type": "code",
   "execution_count": 138,
   "id": "e632320c",
   "metadata": {},
   "outputs": [],
   "source": [
    "def classification__report(cm):\n",
    "  true_pos = np.diag(cm)\n",
    "  false_pos = np.sum(cm, axis=0) - true_pos\n",
    "  false_neg = np.sum(cm, axis=1) - true_pos\n",
    "  precision, recall, f1 = ([] for i in range (3))\n",
    "  for i in range(len(true_pos)):\n",
    "    pre = true_pos[i]/(true_pos[i] + false_pos[i])\n",
    "    rec = true_pos[i]/(true_pos[i] + false_neg[i])\n",
    "    precision.append(pre)\n",
    "    recall.append(rec)\n",
    "    f1.append(((pre + rec) / (pre + rec)))\n",
    "  return (precision, recall, f1)"
   ]
  },
  {
   "cell_type": "code",
   "execution_count": 139,
   "id": "39376cee",
   "metadata": {},
   "outputs": [],
   "source": [
    "def __print (precision, recall, f1):\n",
    "  c = f'{\"Class\":<10}'\n",
    "  p = f'{\"Precision\":<20}'\n",
    "  r = f'{\"Recall\":<20}'\n",
    "  f = f'{\"F1\":<20}'\n",
    "  print (c, p, r, f)\n",
    "  for i in range (len(f1)):\n",
    "    print (f'{str(i):<10}', f'{precision[i]:<20}', f'{recall[i]:<20}', f'{f1[i]:<15}')"
   ]
  },
  {
   "cell_type": "code",
   "execution_count": 140,
   "id": "61024ac4",
   "metadata": {},
   "outputs": [
    {
     "name": "stdout",
     "output_type": "stream",
     "text": [
      "(1, 60000)\n"
     ]
    }
   ],
   "source": [
    "print (y_train.shape)\n",
    "y_train = one_hot_encoding(y_train.astype(\"int\"))\n",
    "y_test = one_hot_encoding(y_test.astype(\"int\"))"
   ]
  },
  {
   "cell_type": "code",
   "execution_count": 141,
   "id": "3a8a1eb6",
   "metadata": {},
   "outputs": [],
   "source": [
    "# activations for the layers to be added \n",
    "def relu(x):\n",
    "  return (np.maximum (0, x))\n",
    "\n",
    "def relu_gradient(x):\n",
    "  return (np.where (x > 0, 1, 0))\n",
    "\n",
    "def sigmoid(x):\n",
    "  #warnings.filterwarnings('ignore')\n",
    "  return (1/(1+np.exp(-x)))\n",
    "\n",
    "def sigmoid_gradient (x):\n",
    "  #y = x\n",
    "  \n",
    "  #sigmoid (x)\n",
    "  #warnings.filterwarnings('ignore')\n",
    "  return (np.exp(-x))/((np.exp(-x)+1)**2)\n",
    "\n",
    "def softmax(x):\n",
    "    e_x = np.exp(x - np.max(x, axis = -1, keepdims=True))\n",
    "    return e_x / np.sum(e_x, axis=-1, keepdims = True)\n",
    "def softmax_gradient(x):\n",
    "  y = softmax(x)\n",
    "  return y * (1 - y)\n"
   ]
  },
  {
   "cell_type": "code",
   "execution_count": 142,
   "id": "8f5f58c1",
   "metadata": {},
   "outputs": [],
   "source": [
    "class SparseCrossEntropy():\n",
    "  def __init__(self):\n",
    "    self.min_value = 1e-15\n",
    "    self.max_value = 1 - self.min_value\n",
    "  def loss(self, y, p):\n",
    "    p = np.clip(p, self.min_value, self.max_value) #clipping the values in the range\n",
    "    return -y*np.log(p) - (1 - y) * np.log(1- p)\n",
    "  \n",
    "  def loss_gradient(self, y, p):\n",
    "    p = np.clip(p, self.min_value, self.max_value)\n",
    "    return -(y/p) + (1 - y) / (1 - p)\n"
   ]
  },
  {
   "cell_type": "code",
   "execution_count": 143,
   "id": "dc8e77a9",
   "metadata": {},
   "outputs": [],
   "source": [
    "class Activation():\n",
    "  def __init__(self, activation, gradient, name=\"activation_layer\"):\n",
    "    self.activation = activation\n",
    "    self.gradient = gradient\n",
    "    self.input = None\n",
    "    self.output = None\n",
    "    self.name = name\n",
    "  \n",
    "  def forward(self, x):\n",
    "    self.input = x\n",
    "    self.output = self.activation(x)\n",
    "    return self.output\n",
    "  \n",
    "  def backward(self, output_error, lr = 0.01):\n",
    "    return self.gradient(self.input) * output_error\n",
    "  \n",
    "  def __call__(self, x):\n",
    "    return self.forward(x)\n"
   ]
  },
  {
   "cell_type": "code",
   "execution_count": 144,
   "id": "ba42ae50",
   "metadata": {},
   "outputs": [],
   "source": [
    "class Linear():\n",
    "  def __init__(self, input, output, name=\"linear_layer\"):\n",
    "    limit = 1 / np.sqrt(input)\n",
    "    self.W = np.random.uniform(-limit, limit, (input, output)) # initial weights\n",
    "    self.b = np.zeros((1, output)) # Biases\n",
    "    self.input = None\n",
    "    self.output = None\n",
    "    self.name = name\n",
    "  \n",
    "  def forward(self, x):\n",
    "    self.input = x\n",
    "    self.output = np.dot(self.input, self.W) + self.b # Wx + b\n",
    "    return self.output\n",
    "  \n",
    "  def backward(self, output_error, lr = 0.01):\n",
    "    input_error = np.dot(output_error, self.W.T)\n",
    "    delta = np.dot(self.input.T, output_error) # Calculate the weights error\n",
    "\n",
    "    #stochastic gradient descent optimization\n",
    "\n",
    "    self.W -= lr * delta\n",
    "    self.b -= lr * np.mean(output_error)\n",
    "    return input_error\n",
    "  \n",
    "  def __call__(self, x):\n",
    "    return self.forward(x)\n"
   ]
  },
  {
   "cell_type": "code",
   "execution_count": 145,
   "id": "38406be5",
   "metadata": {},
   "outputs": [],
   "source": [
    "class Dropout: \n",
    "\n",
    "  def __init__(self, p, name=\"dropout_layer\"):\n",
    "    self.input = None\n",
    "    self.prob = p\n",
    "    self.name = name\n",
    "\n",
    "  def forward(self, x, p):\n",
    "    self.input = x\n",
    "    self.prob = p\n",
    "    binary_value = np.random.rand(self.input.shape[0], self.input.shape[1]) < self.prob\n",
    "    res = np.multiply(self.input, binary_value)\n",
    "    res /= self.prob  # this line is called inverted dropout technique\n",
    "    return res\n",
    "  def __call__(self, x):\n",
    "    return self.forward(x, self.prob)\n"
   ]
  },
  {
   "cell_type": "code",
   "execution_count": 146,
   "id": "b9d4b185",
   "metadata": {},
   "outputs": [],
   "source": [
    "class Network():\n",
    "  \n",
    "  def __init__(self, activationName, input_dim, output_dim, lr=0.01):\n",
    "    if (activationName==\"relu\"):\n",
    "        self.layers = [\n",
    "                       Linear(input_dim, 256, name=\"input\"),\n",
    "                       Activation(relu, relu_gradient, name=\"relu1\"),\n",
    "                       Linear(256, 128, name=\"input\"),\n",
    "                       Activation(relu, relu_gradient, name=\"relu2\"),\n",
    "                       Dropout(p=0.8,name=\"dropout\"),\n",
    "                       Linear(128, output_dim, name=\"output\"),\n",
    "                       Activation(softmax, softmax_gradient, name=\"softmax\")\n",
    "                       ]\n",
    "    if (activationName==\"sigmoid\"):\n",
    "        self.layers = [\n",
    "                       Linear(input_dim, 256, name=\"input\"),\n",
    "                       Activation(sigmoid, sigmoid_gradient, name=\"sigmoid1\"),\n",
    "                       Linear(256, 128, name=\"input\"),\n",
    "                       Activation(sigmoid, sigmoid_gradient, name=\"sigmoid2\"),\n",
    "                       Dropout(p=0.8,name=\"dropout\"),\n",
    "                       Linear(128, output_dim, name=\"output\"),\n",
    "                       Activation(softmax, softmax_gradient, name=\"softmax\")\n",
    "                       ]\n",
    "    self.lr = lr\n",
    "  \n",
    "  def forward(self, x):\n",
    "    for layer in self.layers:\n",
    "      x = layer(x)\n",
    "    return x\n",
    "  \n",
    "  def backward(self, loss_grad):\n",
    "    for layer in reversed(self.layers):\n",
    "      if layer.name != 'dropout':\n",
    "        loss_grad = layer.backward(loss_grad, self.lr)\n",
    "  def summary (self):\n",
    "    for layer in self.layers:\n",
    "      if layer.name != \"dropout\":\n",
    "        print (type(layer).__name__ ,\"---\", layer.name, \"---\", layer.input.shape, \"---\", layer.output.shape)\n",
    "      else: \n",
    "        print (type(layer).__name__, \"------\", layer.input.shape, \"---\", \"Prob:\", layer.prob)\n",
    "  def __call__(self, x):\n",
    "    return self.forward(x)\n"
   ]
  },
  {
   "cell_type": "code",
   "execution_count": 147,
   "id": "dfb8dd12",
   "metadata": {},
   "outputs": [],
   "source": [
    "def batch_loader(X, y = None, size=64):\n",
    "  n_samples = X.shape[0]\n",
    "  for i in np.arange(0, n_samples, size):\n",
    "    start, end = i, min(i + size, n_samples)\n",
    "    if y is not None:\n",
    "      yield X[start:end], y[start: end]\n",
    "    else:\n",
    "      yield X[start:end]\n"
   ]
  },
  {
   "cell_type": "code",
   "execution_count": 148,
   "id": "168f60ab",
   "metadata": {},
   "outputs": [
    {
     "name": "stdout",
     "output_type": "stream",
     "text": [
      "Enter which activation function you would to use between sigmoid and relu: relu\n"
     ]
    }
   ],
   "source": [
    "criterion = SparseCrossEntropy()\n",
    "activationName = str(input(\"Enter which activation function you would to use between sigmoid and relu: \"))\n",
    "while not(activationName == \"sigmoid\" or activationName==\"relu\"):\n",
    "    activationName = str(input(\"Enter which activation function you would to use between sigmoid and relu: \"))\n",
    "#activationName.lower()\n",
    "n_input_dim = 28*28 \n",
    "n_out = 10 \n",
    "y_train = y_train.T\n",
    "y_test = y_test.T\n",
    "\n",
    "model = Network(activationName, n_input_dim, n_out, lr=0.001)\n"
   ]
  },
  {
   "cell_type": "code",
   "execution_count": 150,
   "id": "3422aca2",
   "metadata": {},
   "outputs": [
    {
     "name": "stdout",
     "output_type": "stream",
     "text": [
      "Enter a reasonable number of epochs: 5\n",
      "Epoch 1, Loss: 0.02299975220056574, Acc: 0.9612040245202559\n",
      "Epoch 2, Loss: 0.02070976532986676, Acc: 0.9657849147121536\n",
      "Epoch 3, Loss: 0.01865604697245637, Acc: 0.9686667110874201\n",
      "Epoch 4, Loss: 0.01724249378892186, Acc: 0.9711653784648188\n",
      "Epoch 5, Loss: 0.01583690201053535, Acc: 0.9736640458422174\n"
     ]
    }
   ],
   "source": [
    "e = int(input(\"Enter a reasonable number of epochs: \"))\n",
    "\n",
    "v_loss, v_acc, t_loss, t_acc = ([] for i in range (4))\n",
    "epochs = e\n",
    "for epoch in range(epochs):\n",
    "  loss = []\n",
    "  acc = []\n",
    "  for x_batch, y_batch in batch_loader(X_train, y_train):\n",
    "    out = model(x_batch) # Forward pass\n",
    "    loss.append(np.mean(criterion.loss(y_batch, out)))\n",
    "    # We just passed the inputs incorrectly.\n",
    "    acc.append(accuracy(np.argmax(y_batch, axis=1), np.argmax(out, axis=1)))\n",
    "\n",
    "    error = criterion.loss_gradient(y_batch, out) # Calculating the gradient of loss\n",
    "    model.backward(error) # Backpropagation\n",
    "  \n",
    "  t_acc.append(np.mean(acc))\n",
    "  t_loss.append(np.mean(loss))\n",
    "  print(f\"Epoch {epoch + 1}, Loss: {np.mean(loss)}, Acc: {np.mean(acc)}\")\n",
    "\n",
    "  #validation of model performance\n",
    "\n",
    "  out = model(X_test)\n",
    "  v_loss.append(np.mean(criterion.loss(y_test, out)))\n",
    "  v_acc.append(accuracy(np.argmax(y_test, axis=1), np.argmax(out, axis=1)))\n"
   ]
  },
  {
   "cell_type": "code",
   "execution_count": 151,
   "id": "5f2bcfda",
   "metadata": {},
   "outputs": [
    {
     "name": "stdout",
     "output_type": "stream",
     "text": [
      "Linear --- input --- (10000, 784) --- (10000, 256)\n",
      "Activation --- relu1 --- (10000, 256) --- (10000, 256)\n",
      "Linear --- input --- (10000, 256) --- (10000, 128)\n",
      "Activation --- relu2 --- (10000, 128) --- (10000, 128)\n",
      "Dropout ------ (10000, 128) --- Prob: 0.8\n",
      "Linear --- output --- (10000, 128) --- (10000, 10)\n",
      "Activation --- softmax --- (10000, 10) --- (10000, 10)\n"
     ]
    }
   ],
   "source": [
    "model.summary()"
   ]
  },
  {
   "cell_type": "code",
   "execution_count": 152,
   "id": "3ae89cce",
   "metadata": {},
   "outputs": [
    {
     "name": "stdout",
     "output_type": "stream",
     "text": [
      "96.73\n",
      "[[ 964    0    1    2    1    9    1    1    0    1]\n",
      " [   0 1127    1    3    0    0    1    0    3    0]\n",
      " [   7    8  993    6    5    1    1    7    3    1]\n",
      " [   0    3    4  977    1    7    0    8    3    7]\n",
      " [   1    0    5    0  953    1    3    2    1   16]\n",
      " [   3    1    0    4    1  874    3    0    4    2]\n",
      " [   7    4    1    1   11   22  907    1    4    0]\n",
      " [   0   14    9    1    3    1    0  988    1   11]\n",
      " [   6    3    2    8    4    6    2    8  927    8]\n",
      " [   2    5    0    7   14   10    0    7    1  963]]\n"
     ]
    }
   ],
   "source": [
    "out = model(X_test)\n",
    "y_true = np.argmax(y_test, axis=1)\n",
    "y_pred = np.argmax(out, axis=1)\n",
    "\n",
    "print (accuracy(y_true, y_pred) * 100)\n",
    "cm = confusion__matrix(y_true, y_pred)\n",
    "cm = cm.astype(int)\n",
    "print (cm)"
   ]
  },
  {
   "cell_type": "code",
   "execution_count": 153,
   "id": "977c57e7",
   "metadata": {},
   "outputs": [
    {
     "name": "stdout",
     "output_type": "stream",
     "text": [
      "Class      Precision            Recall               F1                  \n",
      "0          0.9737373737373738   0.9836734693877551   1.0            \n",
      "1          0.967381974248927    0.9929515418502203   1.0            \n",
      "2          0.9773622047244095   0.9622093023255814   1.0            \n",
      "3          0.9682854311199207   0.9673267326732673   1.0            \n",
      "4          0.959718026183283    0.9704684317718941   1.0            \n",
      "5          0.9387755102040817   0.9798206278026906   1.0            \n",
      "6          0.9880174291938998   0.9467640918580376   1.0            \n",
      "7          0.9667318982387475   0.9610894941634242   1.0            \n",
      "8          0.9788806758183738   0.9517453798767967   1.0            \n",
      "9          0.9544103072348861   0.9544103072348861   1.0            \n"
     ]
    }
   ],
   "source": [
    "precision, recall, f1 = classification__report(cm)\n",
    "__print(precision, recall, f1)\n"
   ]
  },
  {
   "cell_type": "code",
   "execution_count": 154,
   "id": "bcb13c23",
   "metadata": {},
   "outputs": [
    {
     "data": {
      "image/png": "[encoded data removed]",
      "text/plain": [
       "<Figure size 640x480 with 1 Axes>"
      ]
     },
     "metadata": {},
     "output_type": "display_data"
    },
    {
     "data": {
      "image/png": "[encoded data removed]",
      "text/plain": [
       "<Figure size 640x480 with 1 Axes>"
      ]
     },
     "metadata": {},
     "output_type": "display_data"
    }
   ],
   "source": [
    "import matplotlib.pyplot as plt\n",
    "\n",
    "epc = np.arange(epochs)\n",
    "#validation curve for accuracy\n",
    "plt.plot(epc, v_acc, label = 'val_acc')\n",
    "plt.plot(epc, t_acc, label = 'train_acc')\n",
    "plt.title('Validation curve')\n",
    "plt.xlabel('Epochs')\n",
    "plt.ylabel('Accuracy')\n",
    "plt.legend(loc='upper left', frameon=False)\n",
    "plt.show()\n",
    "\n",
    "#validation curve for loss \n",
    "\n",
    "plt.plot(epc, v_loss, label = 'val_loss')\n",
    "plt.plot(epc, t_loss, label = 'train_loss')\n",
    "plt.title('Validation curve')\n",
    "plt.xlabel('Epochs')\n",
    "plt.ylabel('Loss')\n",
    "plt.legend(loc='upper left', frameon=False)\n",
    "plt.show()\n"
   ]
  }
 ],
 "metadata": {
  "kernelspec": {
   "display_name": "Python 3 (ipykernel)",
   "language": "python",
   "name": "python3"
  },
  "language_info": {
   "codemirror_mode": {
    "name": "ipython",
    "version": 3
   },
   "file_extension": ".py",
   "mimetype": "text/x-python",
   "name": "python",
   "nbconvert_exporter": "python",
   "pygments_lexer": "ipython3",
   "version": "3.9.13"
  }
 },
 "nbformat": 4,
 "nbformat_minor": 5
}
