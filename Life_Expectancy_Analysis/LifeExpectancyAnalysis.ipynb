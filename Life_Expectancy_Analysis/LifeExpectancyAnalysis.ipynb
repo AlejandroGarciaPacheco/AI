{
 "cells": [
  {
   "cell_type": "code",
   "execution_count": 3,
   "id": "df0158e7",
   "metadata": {
    "id": "df0158e7"
   },
   "outputs": [],
   "source": [
    "# Import necessary libraries\n",
    "import torch\n",
    "from torch import nn\n",
    "import pandas as pd\n",
    "from matplotlib import pyplot as plt\n",
    "import numpy as np\n",
    "import time\n",
    "# Import the seaborn library for plotting\n",
    "import seaborn as sns"
   ]
  },
  {
   "cell_type": "code",
   "execution_count": 4,
   "id": "eaea3ca1",
   "metadata": {
    "colab": {
     "base_uri": "https://localhost:8080/",
     "height": 352
    },
    "id": "eaea3ca1",
    "outputId": "ec112b11-4364-4b0c-c89b-d631c9cc192b"
   },
   "outputs": [
    {
     "data": {
      "text/html": [
       "<div>\n",
       "<style scoped>\n",
       "    .dataframe tbody tr th:only-of-type {\n",
       "        vertical-align: middle;\n",
       "    }\n",
       "\n",
       "    .dataframe tbody tr th {\n",
       "        vertical-align: top;\n",
       "    }\n",
       "\n",
       "    .dataframe thead th {\n",
       "        text-align: right;\n",
       "    }\n",
       "</style>\n",
       "<table border=\"1\" class=\"dataframe\">\n",
       "  <thead>\n",
       "    <tr style=\"text-align: right;\">\n",
       "      <th></th>\n",
       "      <th>Country</th>\n",
       "      <th>Year</th>\n",
       "      <th>Status</th>\n",
       "      <th>Life expectancy</th>\n",
       "      <th>Adult Mortality</th>\n",
       "      <th>infant deaths</th>\n",
       "      <th>Alcohol</th>\n",
       "      <th>percentage expenditure</th>\n",
       "      <th>Hepatitis B</th>\n",
       "      <th>Measles</th>\n",
       "      <th>...</th>\n",
       "      <th>Polio</th>\n",
       "      <th>Total expenditure</th>\n",
       "      <th>Diphtheria</th>\n",
       "      <th>HIV/AIDS</th>\n",
       "      <th>GDP</th>\n",
       "      <th>Population</th>\n",
       "      <th>thinness  1-19 years</th>\n",
       "      <th>thinness 5-9 years</th>\n",
       "      <th>Income composition of resources</th>\n",
       "      <th>Schooling</th>\n",
       "    </tr>\n",
       "  </thead>\n",
       "  <tbody>\n",
       "    <tr>\n",
       "      <th>0</th>\n",
       "      <td>Afghanistan</td>\n",
       "      <td>2015</td>\n",
       "      <td>Developing</td>\n",
       "      <td>65.0</td>\n",
       "      <td>263.0</td>\n",
       "      <td>62</td>\n",
       "      <td>0.01</td>\n",
       "      <td>71.279624</td>\n",
       "      <td>65.0</td>\n",
       "      <td>1154</td>\n",
       "      <td>...</td>\n",
       "      <td>6.0</td>\n",
       "      <td>8.16</td>\n",
       "      <td>65.0</td>\n",
       "      <td>0.1</td>\n",
       "      <td>584.259210</td>\n",
       "      <td>33736494.0</td>\n",
       "      <td>17.2</td>\n",
       "      <td>17.3</td>\n",
       "      <td>0.479</td>\n",
       "      <td>10.1</td>\n",
       "    </tr>\n",
       "    <tr>\n",
       "      <th>1</th>\n",
       "      <td>Afghanistan</td>\n",
       "      <td>2014</td>\n",
       "      <td>Developing</td>\n",
       "      <td>59.9</td>\n",
       "      <td>271.0</td>\n",
       "      <td>64</td>\n",
       "      <td>0.01</td>\n",
       "      <td>73.523582</td>\n",
       "      <td>62.0</td>\n",
       "      <td>492</td>\n",
       "      <td>...</td>\n",
       "      <td>58.0</td>\n",
       "      <td>8.18</td>\n",
       "      <td>62.0</td>\n",
       "      <td>0.1</td>\n",
       "      <td>612.696514</td>\n",
       "      <td>327582.0</td>\n",
       "      <td>17.5</td>\n",
       "      <td>17.5</td>\n",
       "      <td>0.476</td>\n",
       "      <td>10.0</td>\n",
       "    </tr>\n",
       "    <tr>\n",
       "      <th>2</th>\n",
       "      <td>Afghanistan</td>\n",
       "      <td>2013</td>\n",
       "      <td>Developing</td>\n",
       "      <td>59.9</td>\n",
       "      <td>268.0</td>\n",
       "      <td>66</td>\n",
       "      <td>0.01</td>\n",
       "      <td>73.219243</td>\n",
       "      <td>64.0</td>\n",
       "      <td>430</td>\n",
       "      <td>...</td>\n",
       "      <td>62.0</td>\n",
       "      <td>8.13</td>\n",
       "      <td>64.0</td>\n",
       "      <td>0.1</td>\n",
       "      <td>631.744976</td>\n",
       "      <td>31731688.0</td>\n",
       "      <td>17.7</td>\n",
       "      <td>17.7</td>\n",
       "      <td>0.470</td>\n",
       "      <td>9.9</td>\n",
       "    </tr>\n",
       "    <tr>\n",
       "      <th>3</th>\n",
       "      <td>Afghanistan</td>\n",
       "      <td>2012</td>\n",
       "      <td>Developing</td>\n",
       "      <td>59.5</td>\n",
       "      <td>272.0</td>\n",
       "      <td>69</td>\n",
       "      <td>0.01</td>\n",
       "      <td>78.184215</td>\n",
       "      <td>67.0</td>\n",
       "      <td>2787</td>\n",
       "      <td>...</td>\n",
       "      <td>67.0</td>\n",
       "      <td>8.52</td>\n",
       "      <td>67.0</td>\n",
       "      <td>0.1</td>\n",
       "      <td>669.959000</td>\n",
       "      <td>3696958.0</td>\n",
       "      <td>17.9</td>\n",
       "      <td>18.0</td>\n",
       "      <td>0.463</td>\n",
       "      <td>9.8</td>\n",
       "    </tr>\n",
       "    <tr>\n",
       "      <th>4</th>\n",
       "      <td>Afghanistan</td>\n",
       "      <td>2011</td>\n",
       "      <td>Developing</td>\n",
       "      <td>59.2</td>\n",
       "      <td>275.0</td>\n",
       "      <td>71</td>\n",
       "      <td>0.01</td>\n",
       "      <td>7.097109</td>\n",
       "      <td>68.0</td>\n",
       "      <td>3013</td>\n",
       "      <td>...</td>\n",
       "      <td>68.0</td>\n",
       "      <td>7.87</td>\n",
       "      <td>68.0</td>\n",
       "      <td>0.1</td>\n",
       "      <td>63.537231</td>\n",
       "      <td>2978599.0</td>\n",
       "      <td>18.2</td>\n",
       "      <td>18.2</td>\n",
       "      <td>0.454</td>\n",
       "      <td>9.5</td>\n",
       "    </tr>\n",
       "  </tbody>\n",
       "</table>\n",
       "<p>5 rows × 22 columns</p>\n",
       "</div>"
      ],
      "text/plain": [
       "       Country  Year      Status  Life expectancy   Adult Mortality  \\\n",
       "0  Afghanistan  2015  Developing              65.0            263.0   \n",
       "1  Afghanistan  2014  Developing              59.9            271.0   \n",
       "2  Afghanistan  2013  Developing              59.9            268.0   \n",
       "3  Afghanistan  2012  Developing              59.5            272.0   \n",
       "4  Afghanistan  2011  Developing              59.2            275.0   \n",
       "\n",
       "   infant deaths  Alcohol  percentage expenditure  Hepatitis B  Measles   ...  \\\n",
       "0             62     0.01               71.279624         65.0      1154  ...   \n",
       "1             64     0.01               73.523582         62.0       492  ...   \n",
       "2             66     0.01               73.219243         64.0       430  ...   \n",
       "3             69     0.01               78.184215         67.0      2787  ...   \n",
       "4             71     0.01                7.097109         68.0      3013  ...   \n",
       "\n",
       "   Polio  Total expenditure  Diphtheria    HIV/AIDS         GDP  Population  \\\n",
       "0    6.0               8.16         65.0        0.1  584.259210  33736494.0   \n",
       "1   58.0               8.18         62.0        0.1  612.696514    327582.0   \n",
       "2   62.0               8.13         64.0        0.1  631.744976  31731688.0   \n",
       "3   67.0               8.52         67.0        0.1  669.959000   3696958.0   \n",
       "4   68.0               7.87         68.0        0.1   63.537231   2978599.0   \n",
       "\n",
       "    thinness  1-19 years   thinness 5-9 years  \\\n",
       "0                   17.2                 17.3   \n",
       "1                   17.5                 17.5   \n",
       "2                   17.7                 17.7   \n",
       "3                   17.9                 18.0   \n",
       "4                   18.2                 18.2   \n",
       "\n",
       "   Income composition of resources  Schooling  \n",
       "0                            0.479       10.1  \n",
       "1                            0.476       10.0  \n",
       "2                            0.470        9.9  \n",
       "3                            0.463        9.8  \n",
       "4                            0.454        9.5  \n",
       "\n",
       "[5 rows x 22 columns]"
      ]
     },
     "execution_count": 4,
     "metadata": {},
     "output_type": "execute_result"
    }
   ],
   "source": [
    "df = pd.read_csv(r'Life Expectancy Data.csv')\n",
    "df.head()"
   ]
  },
  {
   "cell_type": "code",
   "execution_count": 5,
   "id": "49f6858e",
   "metadata": {
    "colab": {
     "base_uri": "https://localhost:8080/"
    },
    "id": "49f6858e",
    "outputId": "a17144f0-ab07-4ae7-83a3-9d601b722714"
   },
   "outputs": [
    {
     "name": "stdout",
     "output_type": "stream",
     "text": [
      "<class 'pandas.core.frame.DataFrame'>\n",
      "RangeIndex: 2938 entries, 0 to 2937\n",
      "Data columns (total 22 columns):\n",
      " #   Column                           Non-Null Count  Dtype  \n",
      "---  ------                           --------------  -----  \n",
      " 0   Country                          2938 non-null   object \n",
      " 1   Year                             2938 non-null   int64  \n",
      " 2   Status                           2938 non-null   object \n",
      " 3   Life expectancy                  2928 non-null   float64\n",
      " 4   Adult Mortality                  2928 non-null   float64\n",
      " 5   infant deaths                    2938 non-null   int64  \n",
      " 6   Alcohol                          2744 non-null   float64\n",
      " 7   percentage expenditure           2938 non-null   float64\n",
      " 8   Hepatitis B                      2385 non-null   float64\n",
      " 9   Measles                          2938 non-null   int64  \n",
      " 10   BMI                             2904 non-null   float64\n",
      " 11  under-five deaths                2938 non-null   int64  \n",
      " 12  Polio                            2919 non-null   float64\n",
      " 13  Total expenditure                2712 non-null   float64\n",
      " 14  Diphtheria                       2919 non-null   float64\n",
      " 15   HIV/AIDS                        2938 non-null   float64\n",
      " 16  GDP                              2490 non-null   float64\n",
      " 17  Population                       2286 non-null   float64\n",
      " 18   thinness  1-19 years            2904 non-null   float64\n",
      " 19   thinness 5-9 years              2904 non-null   float64\n",
      " 20  Income composition of resources  2771 non-null   float64\n",
      " 21  Schooling                        2775 non-null   float64\n",
      "dtypes: float64(16), int64(4), object(2)\n",
      "memory usage: 505.1+ KB\n"
     ]
    }
   ],
   "source": [
    "df.info()"
   ]
  },
  {
   "cell_type": "code",
   "execution_count": 6,
   "id": "aad9f9c5",
   "metadata": {
    "colab": {
     "base_uri": "https://localhost:8080/",
     "height": 420
    },
    "id": "aad9f9c5",
    "outputId": "973206b4-9dcd-484d-ffa7-f329e787fa9f"
   },
   "outputs": [
    {
     "data": {
      "text/plain": [
       "<AxesSubplot:>"
      ]
     },
     "execution_count": 6,
     "metadata": {},
     "output_type": "execute_result"
    },
    {
     "data": {
      "image/png": "[encoded data removed]",
      "text/plain": [
       "<Figure size 640x480 with 2 Axes>"
      ]
     },
     "metadata": {},
     "output_type": "display_data"
    }
   ],
   "source": [
    "# Checking the Missing Values\n",
    "sns.heatmap(df.isnull(), yticklabels=False, cmap= \"viridis\")"
   ]
  },
  {
   "cell_type": "code",
   "execution_count": 7,
   "id": "e4fb4c16",
   "metadata": {
    "colab": {
     "base_uri": "https://localhost:8080/"
    },
    "id": "e4fb4c16",
    "outputId": "b5114248-bd96-4c2c-a18e-cbb285e69a9b"
   },
   "outputs": [
    {
     "name": "stdout",
     "output_type": "stream",
     "text": [
      "Population                         22.191967\n",
      "Hepatitis B                        18.822328\n",
      "GDP                                15.248468\n",
      "Total expenditure                   7.692308\n",
      "Alcohol                             6.603131\n",
      "Income composition of resources     5.684139\n",
      "Schooling                           5.547992\n",
      " BMI                                1.157250\n",
      " thinness  1-19 years               1.157250\n",
      " thinness 5-9 years                 1.157250\n",
      "Polio                               0.646698\n",
      "Diphtheria                          0.646698\n",
      "Life expectancy                     0.340368\n",
      "Adult Mortality                     0.340368\n",
      "dtype: float64\n"
     ]
    }
   ],
   "source": [
    "#A summary of missing variables represented as a percentage of the total missing content. \n",
    "def missingness_summary(df, print_log=False, sort='ascending'):\n",
    "  s = df.isnull().sum()*100/df.isnull().count()\n",
    "  s = s [s > 0]\n",
    "  if sort.lower() == 'ascending':\n",
    "    s = s.sort_values(ascending=True)\n",
    "  elif sort.lower() == 'descending':\n",
    "    s = s.sort_values(ascending=False)  \n",
    "  if print_log: \n",
    "    print(s)\n",
    "  \n",
    "  return pd.Series(s)\n",
    "\n",
    "suspects = missingness_summary(df, True, 'descending')"
   ]
  },
  {
   "cell_type": "code",
   "execution_count": 8,
   "id": "3a76c9c0",
   "metadata": {
    "colab": {
     "base_uri": "https://localhost:8080/"
    },
    "id": "3a76c9c0",
    "outputId": "6a1e38dc-7d96-4aaf-a0f1-872df1551177"
   },
   "outputs": [
    {
     "data": {
      "text/html": [
       "<div>\n",
       "<style scoped>\n",
       "    .dataframe tbody tr th:only-of-type {\n",
       "        vertical-align: middle;\n",
       "    }\n",
       "\n",
       "    .dataframe tbody tr th {\n",
       "        vertical-align: top;\n",
       "    }\n",
       "\n",
       "    .dataframe thead th {\n",
       "        text-align: right;\n",
       "    }\n",
       "</style>\n",
       "<table border=\"1\" class=\"dataframe\">\n",
       "  <thead>\n",
       "    <tr style=\"text-align: right;\">\n",
       "      <th></th>\n",
       "      <th>Life expectancy</th>\n",
       "      <th>Adult Mortality</th>\n",
       "      <th>Alcohol</th>\n",
       "      <th>GDP</th>\n",
       "    </tr>\n",
       "  </thead>\n",
       "  <tbody>\n",
       "    <tr>\n",
       "      <th>0</th>\n",
       "      <td>65.0</td>\n",
       "      <td>263.0</td>\n",
       "      <td>0.01</td>\n",
       "      <td>584.259210</td>\n",
       "    </tr>\n",
       "    <tr>\n",
       "      <th>1</th>\n",
       "      <td>59.9</td>\n",
       "      <td>271.0</td>\n",
       "      <td>0.01</td>\n",
       "      <td>612.696514</td>\n",
       "    </tr>\n",
       "    <tr>\n",
       "      <th>2</th>\n",
       "      <td>59.9</td>\n",
       "      <td>268.0</td>\n",
       "      <td>0.01</td>\n",
       "      <td>631.744976</td>\n",
       "    </tr>\n",
       "    <tr>\n",
       "      <th>3</th>\n",
       "      <td>59.5</td>\n",
       "      <td>272.0</td>\n",
       "      <td>0.01</td>\n",
       "      <td>669.959000</td>\n",
       "    </tr>\n",
       "    <tr>\n",
       "      <th>4</th>\n",
       "      <td>59.2</td>\n",
       "      <td>275.0</td>\n",
       "      <td>0.01</td>\n",
       "      <td>63.537231</td>\n",
       "    </tr>\n",
       "    <tr>\n",
       "      <th>...</th>\n",
       "      <td>...</td>\n",
       "      <td>...</td>\n",
       "      <td>...</td>\n",
       "      <td>...</td>\n",
       "    </tr>\n",
       "    <tr>\n",
       "      <th>2933</th>\n",
       "      <td>44.3</td>\n",
       "      <td>723.0</td>\n",
       "      <td>4.36</td>\n",
       "      <td>454.366654</td>\n",
       "    </tr>\n",
       "    <tr>\n",
       "      <th>2934</th>\n",
       "      <td>44.5</td>\n",
       "      <td>715.0</td>\n",
       "      <td>4.06</td>\n",
       "      <td>453.351155</td>\n",
       "    </tr>\n",
       "    <tr>\n",
       "      <th>2935</th>\n",
       "      <td>44.8</td>\n",
       "      <td>73.0</td>\n",
       "      <td>4.43</td>\n",
       "      <td>57.348340</td>\n",
       "    </tr>\n",
       "    <tr>\n",
       "      <th>2936</th>\n",
       "      <td>45.3</td>\n",
       "      <td>686.0</td>\n",
       "      <td>1.72</td>\n",
       "      <td>548.587312</td>\n",
       "    </tr>\n",
       "    <tr>\n",
       "      <th>2937</th>\n",
       "      <td>46.0</td>\n",
       "      <td>665.0</td>\n",
       "      <td>1.68</td>\n",
       "      <td>547.358878</td>\n",
       "    </tr>\n",
       "  </tbody>\n",
       "</table>\n",
       "<p>2938 rows × 4 columns</p>\n",
       "</div>"
      ],
      "text/plain": [
       "      Life expectancy   Adult Mortality  Alcohol         GDP\n",
       "0                 65.0            263.0     0.01  584.259210\n",
       "1                 59.9            271.0     0.01  612.696514\n",
       "2                 59.9            268.0     0.01  631.744976\n",
       "3                 59.5            272.0     0.01  669.959000\n",
       "4                 59.2            275.0     0.01   63.537231\n",
       "...                ...              ...      ...         ...\n",
       "2933              44.3            723.0     4.36  454.366654\n",
       "2934              44.5            715.0     4.06  453.351155\n",
       "2935              44.8             73.0     4.43   57.348340\n",
       "2936              45.3            686.0     1.72  548.587312\n",
       "2937              46.0            665.0     1.68  547.358878\n",
       "\n",
       "[2938 rows x 4 columns]"
      ]
     },
     "execution_count": 8,
     "metadata": {},
     "output_type": "execute_result"
    }
   ],
   "source": [
    "selected_columns = [\"Life expectancy \", \"Adult Mortality\", \"Alcohol\", \"GDP\"]\n",
    "\n",
    "# new DataFrame object with the selected columns only\n",
    "df_subset = df[selected_columns]\n",
    "\n",
    "df_subset"
   ]
  },
  {
   "cell_type": "code",
   "execution_count": 9,
   "id": "75d6d382",
   "metadata": {
    "colab": {
     "base_uri": "https://localhost:8080/",
     "height": 1000
    },
    "id": "75d6d382",
    "outputId": "3454d21f-360c-4bd9-b55e-2e31f86601a9"
   },
   "outputs": [
    {
     "data": {
      "text/plain": [
       "Developing    2426\n",
       "Developed      512\n",
       "Name: Status, dtype: int64"
      ]
     },
     "execution_count": 9,
     "metadata": {},
     "output_type": "execute_result"
    }
   ],
   "source": [
    "df[\"Status\"].value_counts()"
   ]
  },
  {
   "cell_type": "code",
   "execution_count": 10,
   "id": "34850038",
   "metadata": {},
   "outputs": [
    {
     "data": {
      "image/png": "[encoded data removed]",
      "text/plain": [
       "<Figure size 1400x700 with 4 Axes>"
      ]
     },
     "metadata": {},
     "output_type": "display_data"
    }
   ],
   "source": [
    "# create mask for developed/developing country comparison\n",
    "dev_mask = (df['Status'] == \"Developed\")\n",
    "\n",
    "# Rearrange selected columns to a 2x2 matrix (as numpy array)\n",
    "\n",
    "colname_matrix = df_subset.columns.to_numpy().reshape(2,2)\n",
    "fig, axs = plt.subplots(2,2, figsize=(14, 7))\n",
    "\n",
    "for row in range(2):\n",
    "    for col in range(2):\n",
    "        colname_tmp = colname_matrix[row, col]\n",
    "\n",
    "        # urrent axis to subplot index\n",
    "        plt.sca(axs[row, col])\n",
    "        \n",
    "        # bin edges and use histogram plotting function\n",
    "        # of pandas dataframe\n",
    "        bin_edges = np.linspace(df_subset[colname_tmp].min(),\n",
    "                                df_subset[colname_tmp].max(), 50)\n",
    "        df_subset[~dev_mask][colname_tmp].plot.hist(bins=bin_edges,\n",
    "                                                    label=\"Developing\",\n",
    "                                                    density=True)\n",
    "\n",
    "        df_subset[dev_mask][colname_tmp].plot.hist(histtype=\"step\",\n",
    "                                                   bins=bin_edges,\n",
    "                                                   label=\"Developed\",\n",
    "                                                   density=True)\n",
    "\n",
    "        plt.xlabel(colname_tmp)\n",
    "        plt.legend(loc=\"upper right\")\n",
    "\n",
    "plt.show()\n",
    "plt.close()"
   ]
  },
  {
   "cell_type": "code",
   "execution_count": 11,
   "id": "fe4e6139",
   "metadata": {},
   "outputs": [
    {
     "data": {
      "image/png": "[encoded data removed]",
      "text/plain": [
       "<Figure size 1000x700 with 4 Axes>"
      ]
     },
     "metadata": {},
     "output_type": "display_data"
    }
   ],
   "source": [
    "#  plots in 2x2 matrix\n",
    "colname_matrix = df_subset.columns.to_numpy().reshape(2,2)\n",
    "fig, axs = plt.subplots(2,2, figsize=(10, 7))\n",
    "\n",
    "for row in range(2):\n",
    "    for col in range(2):\n",
    "        colname_tmp = colname_matrix[row, col]\n",
    "        \n",
    "        # set current axis to subplot index\n",
    "        plt.sca(axs[row, col])\n",
    "        \n",
    "        df_subset[colname_tmp].plot.box()\n",
    "        \n",
    "plt.show()\n",
    "plt.close()"
   ]
  },
  {
   "cell_type": "code",
   "execution_count": 12,
   "id": "8e3b90ea",
   "metadata": {
    "colab": {
     "base_uri": "https://localhost:8080/"
    },
    "id": "8e3b90ea",
    "outputId": "95c3e383-46bb-4014-ca6d-46f6d93da191"
   },
   "outputs": [
    {
     "data": {
      "text/html": [
       "<div>\n",
       "<style scoped>\n",
       "    .dataframe tbody tr th:only-of-type {\n",
       "        vertical-align: middle;\n",
       "    }\n",
       "\n",
       "    .dataframe tbody tr th {\n",
       "        vertical-align: top;\n",
       "    }\n",
       "\n",
       "    .dataframe thead th {\n",
       "        text-align: right;\n",
       "    }\n",
       "</style>\n",
       "<table border=\"1\" class=\"dataframe\">\n",
       "  <thead>\n",
       "    <tr style=\"text-align: right;\">\n",
       "      <th></th>\n",
       "      <th>Country</th>\n",
       "      <th>GDP</th>\n",
       "    </tr>\n",
       "  </thead>\n",
       "  <tbody>\n",
       "    <tr>\n",
       "      <th>1539</th>\n",
       "      <td>Luxembourg</td>\n",
       "      <td>119172.7418</td>\n",
       "    </tr>\n",
       "    <tr>\n",
       "      <th>1542</th>\n",
       "      <td>Luxembourg</td>\n",
       "      <td>115761.5770</td>\n",
       "    </tr>\n",
       "    <tr>\n",
       "      <th>1545</th>\n",
       "      <td>Luxembourg</td>\n",
       "      <td>114293.8433</td>\n",
       "    </tr>\n",
       "    <tr>\n",
       "      <th>1540</th>\n",
       "      <td>Luxembourg</td>\n",
       "      <td>113751.8500</td>\n",
       "    </tr>\n",
       "    <tr>\n",
       "      <th>1547</th>\n",
       "      <td>Luxembourg</td>\n",
       "      <td>89739.7117</td>\n",
       "    </tr>\n",
       "    <tr>\n",
       "      <th>...</th>\n",
       "      <td>...</td>\n",
       "      <td>...</td>\n",
       "    </tr>\n",
       "    <tr>\n",
       "      <th>2901</th>\n",
       "      <td>Yemen</td>\n",
       "      <td>NaN</td>\n",
       "    </tr>\n",
       "    <tr>\n",
       "      <th>2902</th>\n",
       "      <td>Yemen</td>\n",
       "      <td>NaN</td>\n",
       "    </tr>\n",
       "    <tr>\n",
       "      <th>2903</th>\n",
       "      <td>Yemen</td>\n",
       "      <td>NaN</td>\n",
       "    </tr>\n",
       "    <tr>\n",
       "      <th>2904</th>\n",
       "      <td>Yemen</td>\n",
       "      <td>NaN</td>\n",
       "    </tr>\n",
       "    <tr>\n",
       "      <th>2905</th>\n",
       "      <td>Yemen</td>\n",
       "      <td>NaN</td>\n",
       "    </tr>\n",
       "  </tbody>\n",
       "</table>\n",
       "<p>2938 rows × 2 columns</p>\n",
       "</div>"
      ],
      "text/plain": [
       "         Country          GDP\n",
       "1539  Luxembourg  119172.7418\n",
       "1542  Luxembourg  115761.5770\n",
       "1545  Luxembourg  114293.8433\n",
       "1540  Luxembourg  113751.8500\n",
       "1547  Luxembourg   89739.7117\n",
       "...          ...          ...\n",
       "2901       Yemen          NaN\n",
       "2902       Yemen          NaN\n",
       "2903       Yemen          NaN\n",
       "2904       Yemen          NaN\n",
       "2905       Yemen          NaN\n",
       "\n",
       "[2938 rows x 2 columns]"
      ]
     },
     "execution_count": 12,
     "metadata": {},
     "output_type": "execute_result"
    }
   ],
   "source": [
    "df[[\"Country\", \"GDP\"]].sort_values(by=\"GDP\", ascending=False)"
   ]
  },
  {
   "cell_type": "code",
   "execution_count": 13,
   "id": "7712110c",
   "metadata": {
    "colab": {
     "base_uri": "https://localhost:8080/",
     "height": 540
    },
    "id": "7712110c",
    "outputId": "62e3acfb-6edd-4074-a7af-f4deeaf22d53"
   },
   "outputs": [
    {
     "data": {
      "text/plain": [
       "Country                             object\n",
       "Year                                 int64\n",
       "Status                              object\n",
       "Life expectancy                    float64\n",
       "Adult Mortality                    float64\n",
       "infant deaths                        int64\n",
       "Alcohol                            float64\n",
       "percentage expenditure             float64\n",
       "Hepatitis B                        float64\n",
       "Measles                              int64\n",
       " BMI                               float64\n",
       "under-five deaths                    int64\n",
       "Polio                              float64\n",
       "Total expenditure                  float64\n",
       "Diphtheria                         float64\n",
       " HIV/AIDS                          float64\n",
       "GDP                                float64\n",
       "Population                         float64\n",
       " thinness  1-19 years              float64\n",
       " thinness 5-9 years                float64\n",
       "Income composition of resources    float64\n",
       "Schooling                          float64\n",
       "dtype: object"
      ]
     },
     "execution_count": 13,
     "metadata": {},
     "output_type": "execute_result"
    }
   ],
   "source": [
    "df.dtypes"
   ]
  },
  {
   "cell_type": "code",
   "execution_count": 14,
   "id": "1552ab6d",
   "metadata": {
    "colab": {
     "base_uri": "https://localhost:8080/",
     "height": 800
    },
    "id": "1552ab6d",
    "outputId": "7d056061-f343-48b3-c9bf-3dcd820ea118"
   },
   "outputs": [
    {
     "data": {
      "text/plain": [
       "Afghanistan              16\n",
       "Peru                     16\n",
       "Nicaragua                16\n",
       "Niger                    16\n",
       "Nigeria                  16\n",
       "                         ..\n",
       "Niue                      1\n",
       "San Marino                1\n",
       "Nauru                     1\n",
       "Saint Kitts and Nevis     1\n",
       "Dominica                  1\n",
       "Name: Country, Length: 193, dtype: int64"
      ]
     },
     "execution_count": 14,
     "metadata": {},
     "output_type": "execute_result"
    }
   ],
   "source": [
    "df[\"Country\"].value_counts()"
   ]
  },
  {
   "cell_type": "code",
   "execution_count": 15,
   "id": "d673b565",
   "metadata": {
    "colab": {
     "base_uri": "https://localhost:8080/"
    },
    "id": "d673b565",
    "outputId": "6be9761d-23dc-4eed-cf69-3863afa93cfc"
   },
   "outputs": [],
   "source": [
    "# drop Country column for now\n",
    "df = df.drop(columns=[\"Country\"])"
   ]
  },
  {
   "cell_type": "code",
   "execution_count": 16,
   "id": "0a8caba7",
   "metadata": {
    "id": "0a8caba7"
   },
   "outputs": [
    {
     "data": {
      "text/plain": [
       "Developing    2426\n",
       "Developed      512\n",
       "Name: Status, dtype: int64"
      ]
     },
     "execution_count": 16,
     "metadata": {},
     "output_type": "execute_result"
    }
   ],
   "source": [
    "df[\"Status\"].value_counts()"
   ]
  },
  {
   "cell_type": "code",
   "execution_count": 17,
   "id": "c4de283e",
   "metadata": {
    "colab": {
     "base_uri": "https://localhost:8080/",
     "height": 424
    },
    "id": "c4de283e",
    "outputId": "e79d1886-836c-4fb8-9a30-27ba1ddee2f2"
   },
   "outputs": [
    {
     "data": {
      "text/html": [
       "<div>\n",
       "<style scoped>\n",
       "    .dataframe tbody tr th:only-of-type {\n",
       "        vertical-align: middle;\n",
       "    }\n",
       "\n",
       "    .dataframe tbody tr th {\n",
       "        vertical-align: top;\n",
       "    }\n",
       "\n",
       "    .dataframe thead th {\n",
       "        text-align: right;\n",
       "    }\n",
       "</style>\n",
       "<table border=\"1\" class=\"dataframe\">\n",
       "  <thead>\n",
       "    <tr style=\"text-align: right;\">\n",
       "      <th></th>\n",
       "      <th>status_Developed</th>\n",
       "      <th>status_Developing</th>\n",
       "    </tr>\n",
       "  </thead>\n",
       "  <tbody>\n",
       "    <tr>\n",
       "      <th>0</th>\n",
       "      <td>0</td>\n",
       "      <td>1</td>\n",
       "    </tr>\n",
       "    <tr>\n",
       "      <th>1</th>\n",
       "      <td>0</td>\n",
       "      <td>1</td>\n",
       "    </tr>\n",
       "    <tr>\n",
       "      <th>2</th>\n",
       "      <td>0</td>\n",
       "      <td>1</td>\n",
       "    </tr>\n",
       "    <tr>\n",
       "      <th>3</th>\n",
       "      <td>0</td>\n",
       "      <td>1</td>\n",
       "    </tr>\n",
       "    <tr>\n",
       "      <th>4</th>\n",
       "      <td>0</td>\n",
       "      <td>1</td>\n",
       "    </tr>\n",
       "    <tr>\n",
       "      <th>...</th>\n",
       "      <td>...</td>\n",
       "      <td>...</td>\n",
       "    </tr>\n",
       "    <tr>\n",
       "      <th>2933</th>\n",
       "      <td>0</td>\n",
       "      <td>1</td>\n",
       "    </tr>\n",
       "    <tr>\n",
       "      <th>2934</th>\n",
       "      <td>0</td>\n",
       "      <td>1</td>\n",
       "    </tr>\n",
       "    <tr>\n",
       "      <th>2935</th>\n",
       "      <td>0</td>\n",
       "      <td>1</td>\n",
       "    </tr>\n",
       "    <tr>\n",
       "      <th>2936</th>\n",
       "      <td>0</td>\n",
       "      <td>1</td>\n",
       "    </tr>\n",
       "    <tr>\n",
       "      <th>2937</th>\n",
       "      <td>0</td>\n",
       "      <td>1</td>\n",
       "    </tr>\n",
       "  </tbody>\n",
       "</table>\n",
       "<p>2938 rows × 2 columns</p>\n",
       "</div>"
      ],
      "text/plain": [
       "      status_Developed  status_Developing\n",
       "0                    0                  1\n",
       "1                    0                  1\n",
       "2                    0                  1\n",
       "3                    0                  1\n",
       "4                    0                  1\n",
       "...                ...                ...\n",
       "2933                 0                  1\n",
       "2934                 0                  1\n",
       "2935                 0                  1\n",
       "2936                 0                  1\n",
       "2937                 0                  1\n",
       "\n",
       "[2938 rows x 2 columns]"
      ]
     },
     "execution_count": 17,
     "metadata": {},
     "output_type": "execute_result"
    }
   ],
   "source": [
    "#Status has two unique values developed and developing\n",
    "\n",
    "encoded_status = pd.get_dummies(df[\"Status\"], prefix=\"status\")\n",
    "\n",
    "encoded_status"
   ]
  },
  {
   "cell_type": "code",
   "execution_count": 18,
   "id": "3aa64ab8",
   "metadata": {
    "id": "3aa64ab8"
   },
   "outputs": [],
   "source": [
    "# drop columns\n",
    "encoded_status = encoded_status.drop(columns=[\"status_Developing\"])\n",
    "\n",
    "# drop the original status columns from the WHO DataFrame\n",
    "df = df.drop(columns=[\"Status\"])\n",
    "\n",
    "# add the new status_Developed column to the WHO DataFrame\n",
    "df[\"status_Developed\"] = encoded_status[\"status_Developed\"]"
   ]
  },
  {
   "cell_type": "code",
   "execution_count": 19,
   "id": "1de0b351",
   "metadata": {
    "colab": {
     "base_uri": "https://localhost:8080/"
    },
    "id": "1de0b351",
    "outputId": "cdafa550-2c6a-4eda-ce8a-d8f6482443ab"
   },
   "outputs": [
    {
     "data": {
      "text/plain": [
       "Year                                 int64\n",
       "Life expectancy                    float64\n",
       "Adult Mortality                    float64\n",
       "infant deaths                        int64\n",
       "Alcohol                            float64\n",
       "percentage expenditure             float64\n",
       "Hepatitis B                        float64\n",
       "Measles                              int64\n",
       " BMI                               float64\n",
       "under-five deaths                    int64\n",
       "Polio                              float64\n",
       "Total expenditure                  float64\n",
       "Diphtheria                         float64\n",
       " HIV/AIDS                          float64\n",
       "GDP                                float64\n",
       "Population                         float64\n",
       " thinness  1-19 years              float64\n",
       " thinness 5-9 years                float64\n",
       "Income composition of resources    float64\n",
       "Schooling                          float64\n",
       "status_Developed                     uint8\n",
       "dtype: object"
      ]
     },
     "execution_count": 19,
     "metadata": {},
     "output_type": "execute_result"
    }
   ],
   "source": [
    "#Object no longer contains dtypes\n",
    "df.dtypes"
   ]
  },
  {
   "cell_type": "code",
   "execution_count": 20,
   "id": "d82bf4aa",
   "metadata": {
    "colab": {
     "base_uri": "https://localhost:8080/",
     "height": 739
    },
    "id": "d82bf4aa",
    "outputId": "dbba4d31-071b-4387-a872-aebbe84dc18d"
   },
   "outputs": [
    {
     "data": {
      "text/plain": [
       "Year                                 0\n",
       "Life expectancy                     10\n",
       "Adult Mortality                     10\n",
       "infant deaths                        0\n",
       "Alcohol                            194\n",
       "percentage expenditure               0\n",
       "Hepatitis B                        553\n",
       "Measles                              0\n",
       " BMI                                34\n",
       "under-five deaths                    0\n",
       "Polio                               19\n",
       "Total expenditure                  226\n",
       "Diphtheria                          19\n",
       " HIV/AIDS                            0\n",
       "GDP                                448\n",
       "Population                         652\n",
       " thinness  1-19 years               34\n",
       " thinness 5-9 years                 34\n",
       "Income composition of resources    167\n",
       "Schooling                          163\n",
       "status_Developed                     0\n",
       "dtype: int64"
      ]
     },
     "execution_count": 20,
     "metadata": {},
     "output_type": "execute_result"
    }
   ],
   "source": [
    "# Nan or INF per column to count them\n",
    "(~np.isfinite(df)).sum()"
   ]
  },
  {
   "cell_type": "markdown",
   "id": "ad6e1c16",
   "metadata": {
    "id": "ad6e1c16"
   },
   "source": [
    "#### Data Visualization"
   ]
  },
  {
   "cell_type": "code",
   "execution_count": 22,
   "id": "d2dfb45b",
   "metadata": {
    "id": "d2dfb45b"
   },
   "outputs": [
    {
     "data": {
      "text/plain": [
       "Year                               0\n",
       "Life expectancy                    0\n",
       "Adult Mortality                    0\n",
       "infant deaths                      0\n",
       "Alcohol                            0\n",
       "percentage expenditure             0\n",
       "Hepatitis B                        0\n",
       "Measles                            0\n",
       " BMI                               0\n",
       "under-five deaths                  0\n",
       "Polio                              0\n",
       "Total expenditure                  0\n",
       "Diphtheria                         0\n",
       " HIV/AIDS                          0\n",
       "GDP                                0\n",
       "Population                         0\n",
       " thinness  1-19 years              0\n",
       " thinness 5-9 years                0\n",
       "Income composition of resources    0\n",
       "Schooling                          0\n",
       "status_Developed                   0\n",
       "dtype: int64"
      ]
     },
     "execution_count": 22,
     "metadata": {},
     "output_type": "execute_result"
    }
   ],
   "source": [
    "#checks for inf values\n",
    "np.isinf(df).sum()\n",
    "#we see that that there are no inf values which means all the tests are NaN"
   ]
  },
  {
   "cell_type": "code",
   "execution_count": 23,
   "id": "c736a89d",
   "metadata": {
    "id": "c736a89d"
   },
   "outputs": [],
   "source": [
    "from sklearn.impute import KNNImputer\n",
    "\n",
    "# use imputer\n",
    "imputer = KNNImputer()\n",
    "\n",
    "# transform the dataframe and save it into a new DataFrame object\n",
    "df_clean = pd.DataFrame(imputer.fit_transform(df),\n",
    "                            columns=df.columns)"
   ]
  },
  {
   "cell_type": "code",
   "execution_count": 24,
   "id": "cQXgD6jIrnCi",
   "metadata": {
    "id": "cQXgD6jIrnCi"
   },
   "outputs": [
    {
     "data": {
      "text/plain": [
       "Year                               0\n",
       "Life expectancy                    0\n",
       "Adult Mortality                    0\n",
       "infant deaths                      0\n",
       "Alcohol                            0\n",
       "percentage expenditure             0\n",
       "Hepatitis B                        0\n",
       "Measles                            0\n",
       " BMI                               0\n",
       "under-five deaths                  0\n",
       "Polio                              0\n",
       "Total expenditure                  0\n",
       "Diphtheria                         0\n",
       " HIV/AIDS                          0\n",
       "GDP                                0\n",
       "Population                         0\n",
       " thinness  1-19 years              0\n",
       " thinness 5-9 years                0\n",
       "Income composition of resources    0\n",
       "Schooling                          0\n",
       "status_Developed                   0\n",
       "dtype: int64"
      ]
     },
     "execution_count": 24,
     "metadata": {},
     "output_type": "execute_result"
    }
   ],
   "source": [
    "(~np.isfinite(df_clean)).sum()\n",
    "#We imputed all the NaN values using the kNN imputation approach"
   ]
  },
  {
   "cell_type": "code",
   "execution_count": 25,
   "id": "1b86d901",
   "metadata": {
    "colab": {
     "base_uri": "https://localhost:8080/",
     "height": 835
    },
    "id": "1b86d901",
    "outputId": "bd1779b0-43d7-422c-982d-3c116543f160"
   },
   "outputs": [],
   "source": [
    "# Split the cleaned DataFrame into targets and features\n",
    "targets = df_clean['Life expectancy ']\n",
    "data = df_clean.drop(columns=['Life expectancy '])\n",
    "\n",
    "# Split into training/validation/test sets according to 70/15/15 split\n",
    "from sklearn.model_selection import train_test_split\n",
    "\n",
    "# split off training set (70% of samples)\n",
    "x_train, x_remain, y_train, y_remain = train_test_split(data, targets,\n",
    "                                                        train_size=0.7,\n",
    "                                                        random_state=42)\n",
    "\n",
    "\n",
    "# split remainder into test and validation sets\n",
    "# (15% each, corresponding to half of the remaining non-training samples)\n",
    "x_val, x_test, y_val, y_test = train_test_split(x_remain, y_remain,\n",
    "                                                train_size=0.5,\n",
    "                                                random_state=42)"
   ]
  },
  {
   "cell_type": "code",
   "execution_count": 26,
   "id": "c3e9fa77",
   "metadata": {
    "colab": {
     "base_uri": "https://localhost:8080/",
     "height": 408
    },
    "id": "c3e9fa77",
    "outputId": "4ab80ae5-bd05-4e77-9c3f-401ddb3f0184",
    "scrolled": true
   },
   "outputs": [
    {
     "name": "stdout",
     "output_type": "stream",
     "text": [
      "Train set corresponds to 69.98% of the full data.\n",
      "Validation set corresponds to 15.01% of the full data.\n",
      "Test set corresponds to 15.01% of the full data.\n"
     ]
    }
   ],
   "source": [
    "# numbers check out\n",
    "n_full = data.shape[0]\n",
    "train_percent = (x_train.shape[0]/n_full)*100\n",
    "val_percent = (x_val.shape[0]/n_full)*100\n",
    "test_percent = (x_test.shape[0]/n_full)*100\n",
    "\n",
    "print(f\"Train set corresponds to {train_percent:.2f}% of the full data.\")\n",
    "print(f\"Validation set corresponds to {val_percent:.2f}% of the full data.\")\n",
    "print(f\"Test set corresponds to {test_percent:.2f}% of the full data.\")"
   ]
  },
  {
   "cell_type": "code",
   "execution_count": 27,
   "id": "Y5ZqeRfjr7qk",
   "metadata": {
    "colab": {
     "base_uri": "https://localhost:8080/",
     "height": 424
    },
    "id": "Y5ZqeRfjr7qk",
    "outputId": "83e75485-77e6-4924-e7d6-b24f97cd38b4"
   },
   "outputs": [],
   "source": [
    "# import standard scaler from scikit-learn\n",
    "from sklearn.preprocessing import StandardScaler\n",
    "\n",
    "scaler = StandardScaler()\n",
    "\n",
    "# fit (i.e. do the mean/std computation based on the training set features)\n",
    "# and transform training data\n",
    "x_train = scaler.fit_transform(x_train).astype(\"float32\")\n",
    "\n",
    "x_val = scaler.transform(x_val).astype(\"float32\")\n",
    "x_test = scaler.transform(x_test).astype(\"float32\")\n",
    "y_train = y_train.astype(\"float32\")\n",
    "y_val = y_val.astype(\"float32\")\n",
    "y_test = y_test.astype(\"float32\")"
   ]
  },
  {
   "cell_type": "code",
   "execution_count": 28,
   "id": "MUS8nVFjrx2_",
   "metadata": {
    "id": "MUS8nVFjrx2_"
   },
   "outputs": [
    {
     "name": "stdout",
     "output_type": "stream",
     "text": [
      "Means of training set:\n",
      " [-1.8553975e-09  5.5661924e-09  0.0000000e+00 -5.5661924e-09\n",
      "  2.7830962e-09 -3.7107950e-09  1.8553975e-09  9.2769875e-10\n",
      " -2.7830962e-09 -9.2769875e-10  0.0000000e+00  4.1746442e-09\n",
      "  1.8553975e-09  9.2769875e-10  1.8553975e-09 -3.7107950e-09\n",
      " -1.8553975e-09  2.7830962e-09 -4.1746442e-09 -1.1132385e-08] \n",
      "\n",
      "Standard deviations of training set:\n",
      " [1.         1.         1.         1.         1.         1.\n",
      " 1.         1.         1.         1.         1.         1.\n",
      " 1.         1.         0.99999994 1.         1.         1.\n",
      " 1.         1.        ] \n",
      "\n",
      "\n",
      "Means of validation set:\n",
      " [-0.11245106  0.06729227 -0.02169714 -0.03710765  0.07076488 -0.08946922\n",
      "  0.03060593 -0.06165225 -0.01943558 -0.05814418 -0.00773786 -0.05604865\n",
      "  0.02040394  0.05562063  0.0457827   0.02856179  0.00576994 -0.11513781\n",
      " -0.09370142 -0.03978914] \n",
      "\n",
      "Standard deviations of validation set:\n",
      " [0.9937836  1.057211   0.80144393 0.9837529  1.1492503  1.0642618\n",
      " 0.86334425 0.9721492  0.8060862  1.0337036  0.9314145  1.0159639\n",
      " 0.9718269  1.0608898  1.3688992  0.97722715 0.9565242  1.1049932\n",
      " 1.0480379  0.96519727] \n",
      "\n",
      "\n",
      "Means of test set:\n",
      " [ 5.94531596e-02 -3.32982419e-03  1.18305750e-01  5.07278256e-02\n",
      "  3.67479697e-02  3.69090587e-02  4.02377434e-02 -5.21771424e-02\n",
      "  1.08611837e-01 -8.01492110e-03 -2.14744103e-03 -1.06682638e-02\n",
      " -3.17405835e-02  1.44488085e-02  1.00072987e-01 -1.11002497e-04\n",
      " -9.26118344e-03 -5.27073955e-03 -2.09947247e-02 -3.38675715e-02] \n",
      "\n",
      "Standard deviations of test set:\n",
      " [0.99286395 1.0040396  1.4684616  0.9925325  1.0826627  0.96191657\n",
      " 1.0442532  1.0102059  1.4233745  0.9842761  1.0285084  0.98778105\n",
      " 0.88477427 1.0395335  1.9079087  1.0260962  1.0391299  0.99691534\n",
      " 1.0214747  0.9705592 ] \n",
      "\n",
      "\n"
     ]
    }
   ],
   "source": [
    "# checking\n",
    "print(\"Means of training set:\\n\", x_train.mean(axis=0), \"\\n\")\n",
    "print(\"Standard deviations of training set:\\n\", x_train.std(axis=0), \"\\n\\n\")\n",
    "\n",
    "print(\"Means of validation set:\\n\", x_val.mean(axis=0), \"\\n\")\n",
    "print(\"Standard deviations of validation set:\\n\", x_val.std(axis=0), \"\\n\\n\")\n",
    "\n",
    "print(\"Means of test set:\\n\", x_test.mean(axis=0), \"\\n\")\n",
    "print(\"Standard deviations of test set:\\n\", x_test.std(axis=0), \"\\n\\n\")"
   ]
  },
  {
   "cell_type": "code",
   "execution_count": 29,
   "id": "eLN27tPlqs92",
   "metadata": {
    "id": "eLN27tPlqs92"
   },
   "outputs": [],
   "source": [
    "class net (nn.Module):\n",
    "    def __init__(self, layers, n_inputs=5):\n",
    "        super().__init__()\n",
    "        \n",
    "        #linear layers activation\n",
    "        self.layers=[]\n",
    "        for nodes in layers:\n",
    "            self.layers.append(nn.Linear(n_inputs,nodes))\n",
    "            self.layers.append(nn.ReLU())\n",
    "            n_inputs= nodes\n",
    "            \n",
    "        self.layers.append(nn.Linear(n_inputs, 1))\n",
    "        # build pytorch model as sequence of our layers\n",
    "        self.model_stack=nn.Sequential(*self.layers)\n",
    "        \n",
    "    def forward (self, x):\n",
    "        # the forward call just takes data (x) and sends it through the model\n",
    "        # to produce an output\n",
    "        return self.model_stack(x)\n",
    "    \n",
    "    def predict(self, x):\n",
    "        \n",
    "        with torch.no_grad():\n",
    "            self.eval()\n",
    "            x = torch.tensor(x)\n",
    "            prediction = self.forward(x).detach().cpu().numpy()\n",
    "        return prediction\n",
    "        "
   ]
  },
  {
   "cell_type": "code",
   "execution_count": 30,
   "id": "QLkWXEZn6N4x",
   "metadata": {
    "id": "QLkWXEZn6N4x"
   },
   "outputs": [],
   "source": [
    "from torch.utils.data import TensorDataset, DataLoader\n",
    "from torch import optim\n",
    "import torch.nn.functional as F\n",
    "\n",
    "train_set = TensorDataset(torch.tensor(x_train),\n",
    "                          torch.from_numpy(y_train.to_numpy()).reshape(-1, 1))\n",
    "val_set = TensorDataset(torch.tensor(x_val),\n",
    "                        torch.from_numpy(y_val.to_numpy()).reshape(-1, 1))\n",
    "\n",
    "# DataLoader objects\n",
    "train_loader = DataLoader(train_set, batch_size=32, shuffle=True)\n",
    "val_loader = DataLoader(val_set, batch_size=32)\n",
    "\n",
    "# set number of epochs\n",
    "epochs = 10\n",
    "\n",
    "# build model using a single layer with 64 neurons\n",
    "reg_model = net(layers=[64], n_inputs = x_train.shape[1])\n",
    "\n",
    "optimizer = optim.Adam(reg_model.parameters(), lr=1e-3)\n",
    "\n",
    "# Define loss function.\n",
    "loss = F.mse_loss"
   ]
  },
  {
   "cell_type": "code",
   "execution_count": 31,
   "id": "29GtgnDjqECi",
   "metadata": {
    "id": "29GtgnDjqECi"
   },
   "outputs": [
    {
     "name": "stdout",
     "output_type": "stream",
     "text": [
      "Train loss after epoch 1: 4813.806813401442\n",
      "Validation loss after epoch 1: 4567.316545758928\n",
      "Train loss after epoch 2: 4470.729458383414\n",
      "Validation loss after epoch 2: 4061.194318498884\n",
      "Lower loss!\n",
      "Train loss after epoch 3: 3770.842987530048\n",
      "Validation loss after epoch 3: 3187.9828055245534\n",
      "Lower loss!\n",
      "Train loss after epoch 4: 2788.452355018029\n",
      "Validation loss after epoch 4: 2165.0103498186386\n",
      "Lower loss!\n",
      "Train loss after epoch 5: 1800.7876539963943\n",
      "Validation loss after epoch 5: 1338.5292358398438\n",
      "Lower loss!\n",
      "Train loss after epoch 6: 1102.761290564904\n",
      "Validation loss after epoch 6: 843.9974539620536\n",
      "Lower loss!\n",
      "Train loss after epoch 7: 697.7664236215445\n",
      "Validation loss after epoch 7: 577.0631844656808\n",
      "Lower loss!\n",
      "Train loss after epoch 8: 477.1679129967323\n",
      "Validation loss after epoch 8: 434.03479439871654\n",
      "Lower loss!\n",
      "Train loss after epoch 9: 365.86350614107573\n",
      "Validation loss after epoch 9: 354.1279623849051\n",
      "Lower loss!\n",
      "Train loss after epoch 10: 304.637994150015\n",
      "Validation loss after epoch 10: 304.8784713745117\n",
      "Lower loss!\n",
      "Done training 10 epochs!\n",
      "Training took 1.33 seconds!\n"
     ]
    }
   ],
   "source": [
    "#empty lists for storage of training and validation losses\n",
    "train_losses = []\n",
    "val_losses = []\n",
    "\n",
    "start = time.time()\n",
    "\n",
    "# outer training loop\n",
    "for epoch in range(epochs):\n",
    "    \n",
    "    running_train_loss = 0\n",
    "    \n",
    "    # \n",
    "    reg_model.train()\n",
    "\n",
    "    # training part of outer loop = inner loop\n",
    "    for batch in train_loader:\n",
    "        \n",
    "        data, targets = batch\n",
    "        output = reg_model(data)\n",
    "        tmp_loss = loss(output, targets)\n",
    "        optimizer.zero_grad()\n",
    "        tmp_loss.backward()\n",
    "        optimizer.step()\n",
    "        \n",
    "        running_train_loss += tmp_loss.item()\n",
    "    \n",
    "    print(f\"Train loss after epoch {epoch+1}: {running_train_loss/len(train_loader)}\")\n",
    "    train_losses.append(running_train_loss/len(train_loader))\n",
    "    \n",
    "    ## validation part of outer loop\n",
    "    \n",
    "    running_val_loss = 0\n",
    "    # deactivate gradient computation\n",
    "    with torch.no_grad():\n",
    "        \n",
    "        # set model to evaluation mode\n",
    "        reg_model.eval()\n",
    "        \n",
    "        # loop over validation DataLoader\n",
    "        for batch in val_loader:\n",
    "            \n",
    "            data, targets = batch\n",
    "            output = reg_model(data)\n",
    "            tmp_loss = loss(output, targets)\n",
    "            running_val_loss += tmp_loss.item()\n",
    "        \n",
    "        mean_val_loss = running_val_loss/len(val_loader)\n",
    "        print(f\"Validation loss after epoch {epoch+1}: {mean_val_loss}\")\n",
    "        \n",
    "        # If the validation loss of the model is lower than that of all the\n",
    "        # previous epochs, save the model state\n",
    "        if epoch == 0:\n",
    "            torch.save(reg_model.state_dict(), \"./min_val_loss_reg_model.pt\")\n",
    "        elif (epoch > 0) and (mean_val_loss < np.min(val_losses)):\n",
    "            print(\"Lower loss!\")\n",
    "            torch.save(reg_model.state_dict(), \"./min_val_loss_reg_model.pt\")\n",
    "        \n",
    "        val_losses.append(mean_val_loss)\n",
    "\n",
    "end = time.time()\n",
    "print(f\"Done training {epochs} epochs!\")\n",
    "print(f\"Training took {end-start:.2f} seconds!\")"
   ]
  },
  {
   "cell_type": "code",
   "execution_count": 32,
   "id": "-SZV8vXJq_9M",
   "metadata": {
    "colab": {
     "base_uri": "https://localhost:8080/"
    },
    "id": "-SZV8vXJq_9M",
    "outputId": "710ab79c-2cbe-45cc-8bd7-f0bb3195e128"
   },
   "outputs": [
    {
     "data": {
      "image/png": "[encoded data removed]",
      "text/plain": [
       "<Figure size 640x480 with 1 Axes>"
      ]
     },
     "metadata": {},
     "output_type": "display_data"
    }
   ],
   "source": [
    "plt.plot(np.arange(epochs), train_losses, label=\"training\")\n",
    "plt.plot(np.arange(epochs), val_losses, label=\"validation\")\n",
    "plt.ylabel(\"loss\")\n",
    "plt.xlabel(\"epochs\")\n",
    "plt.legend(loc=\"upper right\")\n",
    "plt.show()\n",
    "plt.close()\n",
    "\n",
    "#Here we trained for only 10 epochs, we can train a little longer to improve results"
   ]
  },
  {
   "cell_type": "code",
   "execution_count": 33,
   "id": "H9JA5IrY6HMY",
   "metadata": {
    "id": "H9JA5IrY6HMY"
   },
   "outputs": [
    {
     "name": "stdout",
     "output_type": "stream",
     "text": [
      "Classification performance report\n",
      "Mean Squared Error: 297.79\n",
      "Mean Absolute Error: 13.16\n",
      "Median Absolute Error: 10.13\n",
      "Max Error: 62.39\n",
      "R2 score: -2.32\n"
     ]
    },
    {
     "name": "stderr",
     "output_type": "stream",
     "text": [
      "C:\\Users\\alejo\\AppData\\Local\\Temp\\ipykernel_11680\\2333372929.py:25: UserWarning: To copy construct from a tensor, it is recommended to use sourceTensor.clone().detach() or sourceTensor.clone().detach().requires_grad_(True), rather than torch.tensor(sourceTensor).\n",
      "  x = torch.tensor(x)\n"
     ]
    }
   ],
   "source": [
    "from sklearn.metrics import (mean_absolute_error,\n",
    "                             mean_squared_error,\n",
    "                             median_absolute_error,\n",
    "                             max_error, r2_score)\n",
    "\n",
    "# minimum validation loss model\n",
    "reg_model.load_state_dict(torch.load(\"./min_val_loss_reg_model.pt\"))\n",
    "\n",
    "y_pred = reg_model.predict(torch.tensor(x_test))\n",
    "\n",
    "print(\"Classification performance report\")\n",
    "\n",
    "print(f\"Mean Squared Error: {mean_squared_error(y_test, y_pred):.2f}\")\n",
    "print(f\"Mean Absolute Error: {mean_absolute_error(y_test, y_pred):.2f}\")\n",
    "print(f\"Median Absolute Error: {median_absolute_error(y_test, y_pred):.2f}\")\n",
    "print(f\"Max Error: {max_error(y_test, y_pred):.2f}\")\n",
    "print(f\"R2 score: {r2_score(y_test, y_pred):.2f}\")"
   ]
  },
  {
   "cell_type": "code",
   "execution_count": 34,
   "id": "ximcva9v5JHt",
   "metadata": {
    "colab": {
     "base_uri": "https://localhost:8080/"
    },
    "id": "ximcva9v5JHt",
    "outputId": "2b9863b8-4bae-4c53-8afd-3eeb1041bde2"
   },
   "outputs": [
    {
     "data": {
      "image/png": "[encoded data removed]",
      "text/plain": [
       "<Figure size 640x480 with 1 Axes>"
      ]
     },
     "metadata": {},
     "output_type": "display_data"
    }
   ],
   "source": [
    "plt.errorbar(y_test, y_pred, fmt='bo', label=\"True values\")\n",
    "plt.xlabel(\"True Life Expectancy\")\n",
    "plt.ylabel(\"Predicted Life Expectancy\")\n",
    "plt.legend(loc=\"upper right\")\n",
    "plt.show()\n",
    "plt.close()"
   ]
  },
  {
   "cell_type": "code",
   "execution_count": null,
   "id": "3450061f",
   "metadata": {},
   "outputs": [],
   "source": []
  },
  {
   "cell_type": "code",
   "execution_count": null,
   "id": "e44ce942",
   "metadata": {},
   "outputs": [],
   "source": []
  },
  {
   "cell_type": "code",
   "execution_count": null,
   "id": "d8fc7039",
   "metadata": {},
   "outputs": [],
   "source": []
  }
 ],
 "metadata": {
  "colab": {
   "provenance": []
  },
  "kernelspec": {
   "display_name": "Python 3 (ipykernel)",
   "language": "python",
   "name": "python3"
  },
  "language_info": {
   "codemirror_mode": {
    "name": "ipython",
    "version": 3
   },
   "file_extension": ".py",
   "mimetype": "text/x-python",
   "name": "python",
   "nbconvert_exporter": "python",
   "pygments_lexer": "ipython3",
   "version": "3.9.13"
  }
 },
 "nbformat": 4,
 "nbformat_minor": 5
}
